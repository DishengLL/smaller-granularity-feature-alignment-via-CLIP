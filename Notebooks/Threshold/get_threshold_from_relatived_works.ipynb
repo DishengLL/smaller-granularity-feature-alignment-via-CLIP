{
 "cells": [
  {
   "cell_type": "markdown",
   "metadata": {},
   "source": [
    "# Best Thresholds"
   ]
  },
  {
   "cell_type": "markdown",
   "metadata": {},
   "source": [
    "In this notebook, referencing the experiments results derived from validation dataset in the work of [CheXclusion: Fairness gaps in deep chest X-ray classifiers](https://github.dev/LalehSeyyed/CheXclusion/blob/main/MIMIC/Actual_TPR.py), the thresholds from each labels should be adapted for the best performance.\n",
    "\n",
    "In the original paper, authors run with different random seed and then get different results"
   ]
  },
  {
   "cell_type": "code",
   "execution_count": 83,
   "metadata": {},
   "outputs": [],
   "source": [
    "import os\n",
    "import pandas as pd\n",
    "import pickle\n"
   ]
  },
  {
   "cell_type": "markdown",
   "metadata": {},
   "source": [
    "### MIMIC"
   ]
  },
  {
   "cell_type": "code",
   "execution_count": 84,
   "metadata": {},
   "outputs": [],
   "source": [
    "MIMIC_PATH = \"./MIMIC/\""
   ]
  },
  {
   "cell_type": "code",
   "execution_count": 85,
   "metadata": {},
   "outputs": [],
   "source": [
    "def get_threshold_files(path):\n",
    "  \"\"\" 获取所有 threshold.csv 文件的地址 \"\"\"\n",
    "  threshold_files = []\n",
    "  for root, dirs, files in os.walk(path):\n",
    "      # 检查当前文件夹中是否有 threshold.csv 文件\n",
    "      if \"Threshold.csv\" in files:\n",
    "          # 获取 threshold.csv 文件的路径\n",
    "          threshold_file_path = os.path.join(root, \"Threshold.csv\")\n",
    "          # 添加到列表中\n",
    "          threshold_files.append(threshold_file_path)\n",
    "\n",
    "  # 打印所有 threshold.csv 文件的地址\n",
    "  for file_path in threshold_files:\n",
    "      print(file_path)\n",
    "  return threshold_files\n",
    "\n",
    "def get_average_threshold(threshold_files):\n",
    "    threshold = 0\n",
    "    for file_path in threshold_files:\n",
    "        df = pd.read_csv(file_path)\n",
    "        label_name = df[\"label\"].to_list()\n",
    "        threshold += df[\"bestthr\"].values\n",
    "    return threshold / len(threshold_files), label_name"
   ]
  },
  {
   "cell_type": "code",
   "execution_count": 86,
   "metadata": {},
   "outputs": [
    {
     "name": "stdout",
     "output_type": "stream",
     "text": [
      "./MIMIC/results19\\Threshold.csv\n",
      "./MIMIC/results31\\Threshold.csv\n",
      "./MIMIC/results38\\Threshold.csv\n",
      "./MIMIC/results47\\Threshold.csv\n",
      "./MIMIC/results77\\Threshold.csv\n"
     ]
    }
   ],
   "source": [
    "threshold_files = get_threshold_files(MIMIC_PATH)\n",
    "threshold, label = get_average_threshold(threshold_files)\n"
   ]
  },
  {
   "cell_type": "code",
   "execution_count": 87,
   "metadata": {},
   "outputs": [
    {
     "name": "stdout",
     "output_type": "stream",
     "text": [
      "{'Airspace Opacity': 0.2067894160747527, 'Atelectasis': 0.2571824133396149, 'Cardiomegaly': 0.25030514299869533, 'Consolidation': 0.13011438995599744, 'Edema': 0.2605415195226669, 'Enlarged Cardiomediastinum': 0.08953001797199245, 'Fracture': 0.08186926990747445, 'Lung Lesion': 0.13840098977088924, 'No Finding': 0.36988158226013185, 'Pleural Effusion': 0.37177377939224243, 'Pleural Other': 0.07955108284950249, 'Pneumonia': 0.14167169332504273, 'Pneumothorax': 0.20276318490505213, 'Support Devices': 0.38156365752220156}\n"
     ]
    },
    {
     "data": {
      "text/plain": [
       "{'Airspace Opacity': 0.2067894160747527,\n",
       " 'Atelectasis': 0.2571824133396149,\n",
       " 'Cardiomegaly': 0.25030514299869533,\n",
       " 'Consolidation': 0.13011438995599744,\n",
       " 'Edema': 0.2605415195226669,\n",
       " 'Enlarged Cardiomediastinum': 0.08953001797199245,\n",
       " 'Fracture': 0.08186926990747445,\n",
       " 'Lung Lesion': 0.13840098977088924,\n",
       " 'No Finding': 0.36988158226013185,\n",
       " 'Pleural Effusion': 0.37177377939224243,\n",
       " 'Pleural Other': 0.07955108284950249,\n",
       " 'Pneumonia': 0.14167169332504273,\n",
       " 'Pneumothorax': 0.20276318490505213,\n",
       " 'Support Devices': 0.38156365752220156}"
      ]
     },
     "execution_count": 87,
     "metadata": {},
     "output_type": "execute_result"
    }
   ],
   "source": [
    "MIMIC_THRESHOLD = dict(zip(label, threshold))\n",
    "# 保存字典到文件\n",
    "with open('MIMIC_THRESHOLD.pkl', 'wb') as f:\n",
    "    pickle.dump(MIMIC_THRESHOLD, f)\n",
    "\n",
    "# 从文件中读取字典\n",
    "with open('MIMIC_THRESHOLD.pkl', 'rb') as f:\n",
    "    loaded_dict = pickle.load(f)\n",
    "\n",
    "print(loaded_dict)  # 输出: {'name': 'John', 'age': 30, 'city': 'New York'}\n",
    "\n",
    "MIMIC_THRESHOLD"
   ]
  },
  {
   "cell_type": "markdown",
   "metadata": {},
   "source": [
    "### NIH"
   ]
  },
  {
   "cell_type": "code",
   "execution_count": 88,
   "metadata": {},
   "outputs": [
    {
     "name": "stdout",
     "output_type": "stream",
     "text": [
      "./NIH/results3\\Threshold.csv\n",
      "./NIH/results33\\Threshold.csv\n",
      "./NIH/results37\\Threshold.csv\n",
      "./NIH/results60\\Threshold.csv\n",
      "./NIH/results96\\Threshold.csv\n"
     ]
    }
   ],
   "source": [
    "NIH_PATH = \"./NIH/\"\n",
    "\n",
    "threshold_files = get_threshold_files(NIH_PATH)\n",
    "def get_average_threshold(threshold_files):\n",
    "    threshold = 0\n",
    "    for file_path in threshold_files:\n",
    "        df = pd.read_csv(file_path)\n",
    "        label_name = df[\"label\"].to_list()\n",
    "        threshold += df[\"bestthr\"].values\n",
    "    return threshold / len(threshold_files), label_name\n",
    "  \n",
    "threshold, label = get_average_threshold(threshold_files)"
   ]
  },
  {
   "cell_type": "code",
   "execution_count": 89,
   "metadata": {},
   "outputs": [
    {
     "name": "stdout",
     "output_type": "stream",
     "text": [
      "{'Atelectasis': 0.21819314062595363, 'Cardiomegaly': 0.16013783663511272, 'Consolidation': 0.1485404103994369, 'Edema': 0.09559662565588946, 'Effusion': 0.30975477695465087, 'Emphysema': 0.18105267882347104, 'Fibrosis': 0.08295522779226297, 'Hernia': 0.5549078226089478, 'Infiltration': 0.2306660830974579, 'Mass': 0.2510164678096771, 'Nodule': 0.12614848017692562, 'Pleural_Thickening': 0.12851620316505424, 'Pneumonia': 0.06241033226251595, 'Pneumothorax': 0.17654986083507535}\n"
     ]
    },
    {
     "data": {
      "text/plain": [
       "{'Atelectasis': 0.21819314062595363,\n",
       " 'Cardiomegaly': 0.16013783663511272,\n",
       " 'Consolidation': 0.1485404103994369,\n",
       " 'Edema': 0.09559662565588946,\n",
       " 'Effusion': 0.30975477695465087,\n",
       " 'Emphysema': 0.18105267882347104,\n",
       " 'Fibrosis': 0.08295522779226297,\n",
       " 'Hernia': 0.5549078226089478,\n",
       " 'Infiltration': 0.2306660830974579,\n",
       " 'Mass': 0.2510164678096771,\n",
       " 'Nodule': 0.12614848017692562,\n",
       " 'Pleural_Thickening': 0.12851620316505424,\n",
       " 'Pneumonia': 0.06241033226251595,\n",
       " 'Pneumothorax': 0.17654986083507535}"
      ]
     },
     "execution_count": 89,
     "metadata": {},
     "output_type": "execute_result"
    }
   ],
   "source": [
    "NIH_THRESHOLD = dict(zip(label, threshold))\n",
    "\n",
    "# 保存字典到文件\n",
    "with open('NIH_THRESHOLD.pkl', 'wb') as f:\n",
    "    pickle.dump(NIH_THRESHOLD, f)\n",
    "\n",
    "# 从文件中读取字典\n",
    "with open('NIH_THRESHOLD.pkl', 'rb') as f:\n",
    "    loaded_dict = pickle.load(f)\n",
    "\n",
    "print(loaded_dict)  # 输出: {'name': 'John', 'age': 30, 'city': 'New York'}\n",
    "\n",
    "NIH_THRESHOLD"
   ]
  },
  {
   "cell_type": "markdown",
   "metadata": {},
   "source": [
    "### CheXpert"
   ]
  },
  {
   "cell_type": "code",
   "execution_count": 90,
   "metadata": {},
   "outputs": [
    {
     "name": "stdout",
     "output_type": "stream",
     "text": [
      "./CheXpert/results32\\Threshold.csv\n",
      "./CheXpert/results40\\Threshold.csv\n",
      "./CheXpert/results56\\Threshold.csv\n",
      "./CheXpert/results60\\Threshold.csv\n",
      "./CheXpert/results90\\Threshold.csv\n",
      "['./CheXpert/results32\\\\Threshold.csv', './CheXpert/results40\\\\Threshold.csv', './CheXpert/results56\\\\Threshold.csv', './CheXpert/results60\\\\Threshold.csv', './CheXpert/results90\\\\Threshold.csv']\n"
     ]
    }
   ],
   "source": [
    "CXP = \"./CheXpert/\"\n",
    "threshold_files = get_threshold_files(CXP)\n",
    "print(threshold_files)\n",
    "def get_average_threshold(threshold_files):\n",
    "    threshold = 0\n",
    "    for file_path in threshold_files:\n",
    "        df = pd.read_csv(file_path)\n",
    "        label_name = df[\"label\"].to_list()\n",
    "        threshold += df[\"bestthr\"].values\n",
    "    return threshold / len(threshold_files), label_name\n",
    "  \n",
    "threshold, label = get_average_threshold(threshold_files)"
   ]
  },
  {
   "cell_type": "code",
   "execution_count": 91,
   "metadata": {},
   "outputs": [
    {
     "name": "stdout",
     "output_type": "stream",
     "text": [
      "{'Atelectasis': 0.1715822160243988, 'Cardiomegaly': 0.25941015779972076, 'Consolidation': 0.12079081088304515, 'Edema': 0.29250548481941224, 'Enlarged Cardiomediastinum': 0.11519031822681422, 'Fracture': 0.1463069587945938, 'Lung Lesion': 0.1433594509959221, 'Lung Opacity': 0.3219067692756653, 'No Finding': 0.2351817488670349, 'Pleural Effusion': 0.32850325107574463, 'Pleural Other': 0.13745994269847867, 'Pneumonia': 0.08874680846929543, 'Pneumothorax': 0.28035772740840914, 'Support Devices': 0.43483529686927797}\n"
     ]
    },
    {
     "data": {
      "text/plain": [
       "{'Atelectasis': 0.1715822160243988,\n",
       " 'Cardiomegaly': 0.25941015779972076,\n",
       " 'Consolidation': 0.12079081088304515,\n",
       " 'Edema': 0.29250548481941224,\n",
       " 'Enlarged Cardiomediastinum': 0.11519031822681422,\n",
       " 'Fracture': 0.1463069587945938,\n",
       " 'Lung Lesion': 0.1433594509959221,\n",
       " 'Lung Opacity': 0.3219067692756653,\n",
       " 'No Finding': 0.2351817488670349,\n",
       " 'Pleural Effusion': 0.32850325107574463,\n",
       " 'Pleural Other': 0.13745994269847867,\n",
       " 'Pneumonia': 0.08874680846929543,\n",
       " 'Pneumothorax': 0.28035772740840914,\n",
       " 'Support Devices': 0.43483529686927797}"
      ]
     },
     "execution_count": 91,
     "metadata": {},
     "output_type": "execute_result"
    }
   ],
   "source": [
    "CXP_THRESHOLD = dict(zip(label, threshold))\n",
    "\n",
    "# 保存字典到文件\n",
    "with open('CXP_THRESHOLD.pkl', 'wb') as f:\n",
    "    pickle.dump(CXP_THRESHOLD, f)\n",
    "\n",
    "# 从文件中读取字典\n",
    "with open('CXP_THRESHOLD.pkl', 'rb') as f:\n",
    "    loaded_dict = pickle.load(f)\n",
    "\n",
    "print(loaded_dict)  # 输出: {'name': 'John', 'age': 30, 'city': 'New York'}\n",
    "CXP_THRESHOLD"
   ]
  }
 ],
 "metadata": {
  "kernelspec": {
   "display_name": "gpu",
   "language": "python",
   "name": "python3"
  },
  "language_info": {
   "codemirror_mode": {
    "name": "ipython",
    "version": 3
   },
   "file_extension": ".py",
   "mimetype": "text/x-python",
   "name": "python",
   "nbconvert_exporter": "python",
   "pygments_lexer": "ipython3",
   "version": "3.9.18"
  },
  "orig_nbformat": 4
 },
 "nbformat": 4,
 "nbformat_minor": 2
}

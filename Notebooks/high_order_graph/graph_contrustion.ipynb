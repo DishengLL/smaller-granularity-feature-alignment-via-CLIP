{
 "cells": [
  {
   "cell_type": "markdown",
   "metadata": {},
   "source": [
    "## CheXpert"
   ]
  },
  {
   "cell_type": "code",
   "execution_count": 1,
   "metadata": {},
   "outputs": [],
   "source": [
    "class TreeNode:\n",
    "    def __init__(self, label, children=None):\n",
    "        self.label = label\n",
    "        self.children = children or []\n",
    "\n",
    "def build_tree():\n",
    "    # no_finding = TreeNode(\"No Finding\")\n",
    "    heart_related = TreeNode(\"Heart Related Issues\", \n",
    "                             [\n",
    "                              TreeNode(\"Enlarged Cardiomediastinum\"),\n",
    "                              TreeNode(\"Cardiomegaly\")\n",
    "                              ]\n",
    "                             )\n",
    "    lung_issues = TreeNode(\"Lung Issues\", \n",
    "                           [\n",
    "                            TreeNode(\"Lung Lesion\"),\n",
    "                            TreeNode(\"Lung Opacity\", \n",
    "                                     [\n",
    "                                      TreeNode(\"Edema\"),\n",
    "                                      TreeNode(\"Consolidation\"),\n",
    "                                      TreeNode(\"Pneumonia\")\n",
    "                                      ]),\n",
    "                              TreeNode(\"Atelectasis\"),\n",
    "                              TreeNode(\"Pneumothorax\")\n",
    "                            ])\n",
    "    pleural_issues = TreeNode(\"Pleural Issues\", [\n",
    "                                                  TreeNode(\"Pleural Effusion\"),\n",
    "                                                  TreeNode(\"Pleural Other\")\n",
    "                                              ]\n",
    "                              )\n",
    "    other_issues = TreeNode(\"Other Issues\", [\n",
    "                                              TreeNode(\"Fracture\"),\n",
    "                                              TreeNode(\"Support Devices\")\n",
    "                                              ])\n",
    "    # root = TreeNode(\"Chest X-ray Findings\", [no_finding, heart_related, lung_issues, pleural_issues, other_issues])\n",
    "    root = TreeNode(\"Chest X-ray Findings\", [heart_related, lung_issues, pleural_issues, other_issues])\n",
    "    return root\n",
    "  \n",
    "  \n"
   ]
  },
  {
   "cell_type": "markdown",
   "metadata": {},
   "source": [
    "### structure vis"
   ]
  },
  {
   "cell_type": "markdown",
   "metadata": {},
   "source": [
    "#####  Functions"
   ]
  },
  {
   "cell_type": "code",
   "execution_count": 5,
   "metadata": {},
   "outputs": [],
   "source": [
    "import plotly.graph_objects as go\n",
    "import networkx as nx\n",
    "\n",
    "class TreeNode:\n",
    "    def __init__(self, label, children=None):\n",
    "        self.label = label\n",
    "        self.children = children or []\n",
    "\n",
    "def build_tree():\n",
    "    heart_related = TreeNode(\"Heart Related Issues\", \n",
    "                             [\n",
    "                              TreeNode(\"Enlarged Cardiomediastinum\"),\n",
    "                              TreeNode(\"Cardiomegaly\")\n",
    "                              ]\n",
    "                             )\n",
    "    lung_issues = TreeNode(\"Lung Issues\", \n",
    "                           [\n",
    "                            TreeNode(\"Lung Lesion\"),\n",
    "                            TreeNode(\"Lung Opacity\", \n",
    "                                     [\n",
    "                                      TreeNode(\"Edema\"),\n",
    "                                      TreeNode(\"Consolidation\"),\n",
    "                                      TreeNode(\"Pneumonia\")\n",
    "                                      ]),\n",
    "                              TreeNode(\"Atelectasis\"),\n",
    "                              TreeNode(\"Pneumothorax\")\n",
    "                            ])\n",
    "    pleural_issues = TreeNode(\"Pleural Issues\", [\n",
    "                                                  TreeNode(\"Pleural Effusion\"),\n",
    "                                                  TreeNode(\"Pleural Other\")\n",
    "                                              ]\n",
    "                              )\n",
    "    other_issues = TreeNode(\"Other Issues\", [\n",
    "                                              TreeNode(\"Fracture\"),\n",
    "                                              TreeNode(\"Support Devices\")\n",
    "                                              ])\n",
    "    root = TreeNode(\"Chest X-ray Findings\", [heart_related, lung_issues, pleural_issues, other_issues])\n",
    "    return root\n",
    "\n",
    "def tree_to_networkx(node, graph=None, parent=None):\n",
    "    if graph is None:\n",
    "        graph = nx.Graph()\n",
    "    \n",
    "    graph.add_node(node.label)\n",
    "    \n",
    "    if parent:\n",
    "        graph.add_edge(parent.label, node.label)\n",
    "    \n",
    "    for child in node.children:\n",
    "        tree_to_networkx(child, graph, node)\n",
    "    \n",
    "    return graph\n",
    "\n",
    "def create_plotly_tree(root):\n",
    "    G = tree_to_networkx(root)\n",
    "    pos = nx.spring_layout(G)\n",
    "\n",
    "    edge_x = []\n",
    "    edge_y = []\n",
    "    for edge in G.edges():\n",
    "        x0, y0 = pos[edge[0]]\n",
    "        x1, y1 = pos[edge[1]]\n",
    "        edge_x.extend([x0, x1, None])\n",
    "        edge_y.extend([y0, y1, None])\n",
    "\n",
    "    edge_trace = go.Scatter(\n",
    "        x=edge_x, y=edge_y,\n",
    "        line=dict(width=0.5, color='#888'),\n",
    "        hoverinfo='none',\n",
    "        mode='lines')\n",
    "\n",
    "    node_x = []\n",
    "    node_y = []\n",
    "    for node in G.nodes():\n",
    "        x, y = pos[node]\n",
    "        node_x.append(x)\n",
    "        node_y.append(y)\n",
    "\n",
    "    node_trace = go.Scatter(\n",
    "        x=node_x, y=node_y,\n",
    "        mode='markers+text',\n",
    "        hoverinfo='text',\n",
    "        text=[node for node in G.nodes()],\n",
    "        textposition=\"top center\",\n",
    "        marker=dict(\n",
    "            showscale=True,\n",
    "            colorscale='YlGnBu',\n",
    "            size=10,\n",
    "            color=[],\n",
    "            colorbar=dict(\n",
    "                thickness=15,\n",
    "                title='Node Connections',\n",
    "                xanchor='left',\n",
    "                titleside='right'\n",
    "            )\n",
    "        )\n",
    "    )\n",
    "\n",
    "    node_adjacencies = []\n",
    "    for node, adjacencies in G.adjacency():\n",
    "        node_adjacencies.append(len(adjacencies))\n",
    "\n",
    "    node_trace.marker.color = node_adjacencies\n",
    "\n",
    "    fig = go.Figure(data=[edge_trace, node_trace],\n",
    "                    layout=go.Layout(\n",
    "                        title='Chest X-ray Findings Tree -- CheXpert',\n",
    "                        titlefont_size=16,\n",
    "                        showlegend=False,\n",
    "                        hovermode='closest',\n",
    "                        margin=dict(b=20,l=5,r=5,t=40),\n",
    "                        xaxis=dict(showgrid=False, zeroline=False, showticklabels=False),\n",
    "                        yaxis=dict(showgrid=False, zeroline=False, showticklabels=False))\n",
    "                    )\n",
    "\n",
    "    return fig"
   ]
  },
  {
   "cell_type": "markdown",
   "metadata": {},
   "source": [
    "##### vis"
   ]
  },
  {
   "cell_type": "code",
   "execution_count": 6,
   "metadata": {},
   "outputs": [
    {
     "data": {
      "application/vnd.plotly.v1+json": {
       "config": {
        "plotlyServerURL": "https://plot.ly"
       },
       "data": [
        {
         "hoverinfo": "none",
         "line": {
          "color": "#888",
          "width": 0.5
         },
         "mode": "lines",
         "type": "scatter",
         "x": [
          -0.20410002282241974,
          -0.6249824289604848,
          null,
          -0.20410002282241974,
          0.2008800897204716,
          null,
          -0.20410002282241974,
          -0.5142360850532895,
          null,
          -0.20410002282241974,
          0.00972435838060992,
          null,
          -0.6249824289604848,
          -0.8396387004589582,
          null,
          -0.6249824289604848,
          -0.9382584077850169,
          null,
          0.2008800897204716,
          -0.011942645207484044,
          null,
          0.2008800897204716,
          0.6969410516615953,
          null,
          0.2008800897204716,
          0.17511992265473322,
          null,
          0.2008800897204716,
          0.3801003614155523,
          null,
          0.6969410516615953,
          0.8252235167865544,
          null,
          0.6969410516615953,
          1,
          null,
          0.6969410516615953,
          0.982013148962333,
          null,
          -0.5142360850532895,
          -0.6177616489437873,
          null,
          -0.5142360850532895,
          -0.7989582948546446,
          null,
          0.00972435838060992,
          0.2486483460836038,
          null,
          0.00972435838060992,
          0.031227438420631602,
          null
         ],
         "y": [
          0.1577059590891816,
          -0.021950302673914898,
          null,
          0.1577059590891816,
          -0.28118160621093286,
          null,
          0.1577059590891816,
          0.5006757062055183,
          null,
          0.1577059590891816,
          0.5521195099655356,
          null,
          -0.021950302673914898,
          -0.24561075428539705,
          null,
          -0.021950302673914898,
          -0.017483667676713336,
          null,
          -0.28118160621093286,
          -0.45219318795390456,
          null,
          -0.28118160621093286,
          -0.4826302671659115,
          null,
          -0.28118160621093286,
          -0.5944366604189316,
          null,
          -0.28118160621093286,
          -0.40730388945780377,
          null,
          -0.4826302671659115,
          -0.77396296368791,
          null,
          -0.4826302671659115,
          -0.6071699010505182,
          null,
          -0.4826302671659115,
          -0.36482674125479936,
          null,
          0.5006757062055183,
          0.7986214766963227,
          null,
          0.5006757062055183,
          0.6331822582540114,
          null,
          0.5521195099655356,
          0.7443373258435796,
          null,
          0.5521195099655356,
          0.8621077057825867,
          null
         ]
        },
        {
         "hoverinfo": "text",
         "marker": {
          "color": [
           4,
           3,
           1,
           1,
           5,
           1,
           4,
           1,
           1,
           1,
           1,
           1,
           3,
           1,
           1,
           3,
           1,
           1
          ],
          "colorbar": {
           "thickness": 15,
           "title": {
            "side": "right",
            "text": "Node Connections"
           },
           "xanchor": "left"
          },
          "colorscale": [
           [
            0,
            "rgb(255,255,217)"
           ],
           [
            0.125,
            "rgb(237,248,177)"
           ],
           [
            0.25,
            "rgb(199,233,180)"
           ],
           [
            0.375,
            "rgb(127,205,187)"
           ],
           [
            0.5,
            "rgb(65,182,196)"
           ],
           [
            0.625,
            "rgb(29,145,192)"
           ],
           [
            0.75,
            "rgb(34,94,168)"
           ],
           [
            0.875,
            "rgb(37,52,148)"
           ],
           [
            1,
            "rgb(8,29,88)"
           ]
          ],
          "showscale": true,
          "size": 10
         },
         "mode": "markers+text",
         "text": [
          "Chest X-ray Findings",
          "Heart Related Issues",
          "Enlarged Cardiomediastinum",
          "Cardiomegaly",
          "Lung Issues",
          "Lung Lesion",
          "Lung Opacity",
          "Edema",
          "Consolidation",
          "Pneumonia",
          "Atelectasis",
          "Pneumothorax",
          "Pleural Issues",
          "Pleural Effusion",
          "Pleural Other",
          "Other Issues",
          "Fracture",
          "Support Devices"
         ],
         "textposition": "top center",
         "type": "scatter",
         "x": [
          -0.20410002282241974,
          -0.6249824289604848,
          -0.8396387004589582,
          -0.9382584077850169,
          0.2008800897204716,
          -0.011942645207484044,
          0.6969410516615953,
          0.8252235167865544,
          1,
          0.982013148962333,
          0.17511992265473322,
          0.3801003614155523,
          -0.5142360850532895,
          -0.6177616489437873,
          -0.7989582948546446,
          0.00972435838060992,
          0.2486483460836038,
          0.031227438420631602
         ],
         "y": [
          0.1577059590891816,
          -0.021950302673914898,
          -0.24561075428539705,
          -0.017483667676713336,
          -0.28118160621093286,
          -0.45219318795390456,
          -0.4826302671659115,
          -0.77396296368791,
          -0.6071699010505182,
          -0.36482674125479936,
          -0.5944366604189316,
          -0.40730388945780377,
          0.5006757062055183,
          0.7986214766963227,
          0.6331822582540114,
          0.5521195099655356,
          0.7443373258435796,
          0.8621077057825867
         ]
        }
       ],
       "layout": {
        "hovermode": "closest",
        "margin": {
         "b": 20,
         "l": 5,
         "r": 5,
         "t": 40
        },
        "showlegend": false,
        "template": {
         "data": {
          "bar": [
           {
            "error_x": {
             "color": "#2a3f5f"
            },
            "error_y": {
             "color": "#2a3f5f"
            },
            "marker": {
             "line": {
              "color": "#E5ECF6",
              "width": 0.5
             },
             "pattern": {
              "fillmode": "overlay",
              "size": 10,
              "solidity": 0.2
             }
            },
            "type": "bar"
           }
          ],
          "barpolar": [
           {
            "marker": {
             "line": {
              "color": "#E5ECF6",
              "width": 0.5
             },
             "pattern": {
              "fillmode": "overlay",
              "size": 10,
              "solidity": 0.2
             }
            },
            "type": "barpolar"
           }
          ],
          "carpet": [
           {
            "aaxis": {
             "endlinecolor": "#2a3f5f",
             "gridcolor": "white",
             "linecolor": "white",
             "minorgridcolor": "white",
             "startlinecolor": "#2a3f5f"
            },
            "baxis": {
             "endlinecolor": "#2a3f5f",
             "gridcolor": "white",
             "linecolor": "white",
             "minorgridcolor": "white",
             "startlinecolor": "#2a3f5f"
            },
            "type": "carpet"
           }
          ],
          "choropleth": [
           {
            "colorbar": {
             "outlinewidth": 0,
             "ticks": ""
            },
            "type": "choropleth"
           }
          ],
          "contour": [
           {
            "colorbar": {
             "outlinewidth": 0,
             "ticks": ""
            },
            "colorscale": [
             [
              0,
              "#0d0887"
             ],
             [
              0.1111111111111111,
              "#46039f"
             ],
             [
              0.2222222222222222,
              "#7201a8"
             ],
             [
              0.3333333333333333,
              "#9c179e"
             ],
             [
              0.4444444444444444,
              "#bd3786"
             ],
             [
              0.5555555555555556,
              "#d8576b"
             ],
             [
              0.6666666666666666,
              "#ed7953"
             ],
             [
              0.7777777777777778,
              "#fb9f3a"
             ],
             [
              0.8888888888888888,
              "#fdca26"
             ],
             [
              1,
              "#f0f921"
             ]
            ],
            "type": "contour"
           }
          ],
          "contourcarpet": [
           {
            "colorbar": {
             "outlinewidth": 0,
             "ticks": ""
            },
            "type": "contourcarpet"
           }
          ],
          "heatmap": [
           {
            "colorbar": {
             "outlinewidth": 0,
             "ticks": ""
            },
            "colorscale": [
             [
              0,
              "#0d0887"
             ],
             [
              0.1111111111111111,
              "#46039f"
             ],
             [
              0.2222222222222222,
              "#7201a8"
             ],
             [
              0.3333333333333333,
              "#9c179e"
             ],
             [
              0.4444444444444444,
              "#bd3786"
             ],
             [
              0.5555555555555556,
              "#d8576b"
             ],
             [
              0.6666666666666666,
              "#ed7953"
             ],
             [
              0.7777777777777778,
              "#fb9f3a"
             ],
             [
              0.8888888888888888,
              "#fdca26"
             ],
             [
              1,
              "#f0f921"
             ]
            ],
            "type": "heatmap"
           }
          ],
          "heatmapgl": [
           {
            "colorbar": {
             "outlinewidth": 0,
             "ticks": ""
            },
            "colorscale": [
             [
              0,
              "#0d0887"
             ],
             [
              0.1111111111111111,
              "#46039f"
             ],
             [
              0.2222222222222222,
              "#7201a8"
             ],
             [
              0.3333333333333333,
              "#9c179e"
             ],
             [
              0.4444444444444444,
              "#bd3786"
             ],
             [
              0.5555555555555556,
              "#d8576b"
             ],
             [
              0.6666666666666666,
              "#ed7953"
             ],
             [
              0.7777777777777778,
              "#fb9f3a"
             ],
             [
              0.8888888888888888,
              "#fdca26"
             ],
             [
              1,
              "#f0f921"
             ]
            ],
            "type": "heatmapgl"
           }
          ],
          "histogram": [
           {
            "marker": {
             "pattern": {
              "fillmode": "overlay",
              "size": 10,
              "solidity": 0.2
             }
            },
            "type": "histogram"
           }
          ],
          "histogram2d": [
           {
            "colorbar": {
             "outlinewidth": 0,
             "ticks": ""
            },
            "colorscale": [
             [
              0,
              "#0d0887"
             ],
             [
              0.1111111111111111,
              "#46039f"
             ],
             [
              0.2222222222222222,
              "#7201a8"
             ],
             [
              0.3333333333333333,
              "#9c179e"
             ],
             [
              0.4444444444444444,
              "#bd3786"
             ],
             [
              0.5555555555555556,
              "#d8576b"
             ],
             [
              0.6666666666666666,
              "#ed7953"
             ],
             [
              0.7777777777777778,
              "#fb9f3a"
             ],
             [
              0.8888888888888888,
              "#fdca26"
             ],
             [
              1,
              "#f0f921"
             ]
            ],
            "type": "histogram2d"
           }
          ],
          "histogram2dcontour": [
           {
            "colorbar": {
             "outlinewidth": 0,
             "ticks": ""
            },
            "colorscale": [
             [
              0,
              "#0d0887"
             ],
             [
              0.1111111111111111,
              "#46039f"
             ],
             [
              0.2222222222222222,
              "#7201a8"
             ],
             [
              0.3333333333333333,
              "#9c179e"
             ],
             [
              0.4444444444444444,
              "#bd3786"
             ],
             [
              0.5555555555555556,
              "#d8576b"
             ],
             [
              0.6666666666666666,
              "#ed7953"
             ],
             [
              0.7777777777777778,
              "#fb9f3a"
             ],
             [
              0.8888888888888888,
              "#fdca26"
             ],
             [
              1,
              "#f0f921"
             ]
            ],
            "type": "histogram2dcontour"
           }
          ],
          "mesh3d": [
           {
            "colorbar": {
             "outlinewidth": 0,
             "ticks": ""
            },
            "type": "mesh3d"
           }
          ],
          "parcoords": [
           {
            "line": {
             "colorbar": {
              "outlinewidth": 0,
              "ticks": ""
             }
            },
            "type": "parcoords"
           }
          ],
          "pie": [
           {
            "automargin": true,
            "type": "pie"
           }
          ],
          "scatter": [
           {
            "fillpattern": {
             "fillmode": "overlay",
             "size": 10,
             "solidity": 0.2
            },
            "type": "scatter"
           }
          ],
          "scatter3d": [
           {
            "line": {
             "colorbar": {
              "outlinewidth": 0,
              "ticks": ""
             }
            },
            "marker": {
             "colorbar": {
              "outlinewidth": 0,
              "ticks": ""
             }
            },
            "type": "scatter3d"
           }
          ],
          "scattercarpet": [
           {
            "marker": {
             "colorbar": {
              "outlinewidth": 0,
              "ticks": ""
             }
            },
            "type": "scattercarpet"
           }
          ],
          "scattergeo": [
           {
            "marker": {
             "colorbar": {
              "outlinewidth": 0,
              "ticks": ""
             }
            },
            "type": "scattergeo"
           }
          ],
          "scattergl": [
           {
            "marker": {
             "colorbar": {
              "outlinewidth": 0,
              "ticks": ""
             }
            },
            "type": "scattergl"
           }
          ],
          "scattermapbox": [
           {
            "marker": {
             "colorbar": {
              "outlinewidth": 0,
              "ticks": ""
             }
            },
            "type": "scattermapbox"
           }
          ],
          "scatterpolar": [
           {
            "marker": {
             "colorbar": {
              "outlinewidth": 0,
              "ticks": ""
             }
            },
            "type": "scatterpolar"
           }
          ],
          "scatterpolargl": [
           {
            "marker": {
             "colorbar": {
              "outlinewidth": 0,
              "ticks": ""
             }
            },
            "type": "scatterpolargl"
           }
          ],
          "scatterternary": [
           {
            "marker": {
             "colorbar": {
              "outlinewidth": 0,
              "ticks": ""
             }
            },
            "type": "scatterternary"
           }
          ],
          "surface": [
           {
            "colorbar": {
             "outlinewidth": 0,
             "ticks": ""
            },
            "colorscale": [
             [
              0,
              "#0d0887"
             ],
             [
              0.1111111111111111,
              "#46039f"
             ],
             [
              0.2222222222222222,
              "#7201a8"
             ],
             [
              0.3333333333333333,
              "#9c179e"
             ],
             [
              0.4444444444444444,
              "#bd3786"
             ],
             [
              0.5555555555555556,
              "#d8576b"
             ],
             [
              0.6666666666666666,
              "#ed7953"
             ],
             [
              0.7777777777777778,
              "#fb9f3a"
             ],
             [
              0.8888888888888888,
              "#fdca26"
             ],
             [
              1,
              "#f0f921"
             ]
            ],
            "type": "surface"
           }
          ],
          "table": [
           {
            "cells": {
             "fill": {
              "color": "#EBF0F8"
             },
             "line": {
              "color": "white"
             }
            },
            "header": {
             "fill": {
              "color": "#C8D4E3"
             },
             "line": {
              "color": "white"
             }
            },
            "type": "table"
           }
          ]
         },
         "layout": {
          "annotationdefaults": {
           "arrowcolor": "#2a3f5f",
           "arrowhead": 0,
           "arrowwidth": 1
          },
          "autotypenumbers": "strict",
          "coloraxis": {
           "colorbar": {
            "outlinewidth": 0,
            "ticks": ""
           }
          },
          "colorscale": {
           "diverging": [
            [
             0,
             "#8e0152"
            ],
            [
             0.1,
             "#c51b7d"
            ],
            [
             0.2,
             "#de77ae"
            ],
            [
             0.3,
             "#f1b6da"
            ],
            [
             0.4,
             "#fde0ef"
            ],
            [
             0.5,
             "#f7f7f7"
            ],
            [
             0.6,
             "#e6f5d0"
            ],
            [
             0.7,
             "#b8e186"
            ],
            [
             0.8,
             "#7fbc41"
            ],
            [
             0.9,
             "#4d9221"
            ],
            [
             1,
             "#276419"
            ]
           ],
           "sequential": [
            [
             0,
             "#0d0887"
            ],
            [
             0.1111111111111111,
             "#46039f"
            ],
            [
             0.2222222222222222,
             "#7201a8"
            ],
            [
             0.3333333333333333,
             "#9c179e"
            ],
            [
             0.4444444444444444,
             "#bd3786"
            ],
            [
             0.5555555555555556,
             "#d8576b"
            ],
            [
             0.6666666666666666,
             "#ed7953"
            ],
            [
             0.7777777777777778,
             "#fb9f3a"
            ],
            [
             0.8888888888888888,
             "#fdca26"
            ],
            [
             1,
             "#f0f921"
            ]
           ],
           "sequentialminus": [
            [
             0,
             "#0d0887"
            ],
            [
             0.1111111111111111,
             "#46039f"
            ],
            [
             0.2222222222222222,
             "#7201a8"
            ],
            [
             0.3333333333333333,
             "#9c179e"
            ],
            [
             0.4444444444444444,
             "#bd3786"
            ],
            [
             0.5555555555555556,
             "#d8576b"
            ],
            [
             0.6666666666666666,
             "#ed7953"
            ],
            [
             0.7777777777777778,
             "#fb9f3a"
            ],
            [
             0.8888888888888888,
             "#fdca26"
            ],
            [
             1,
             "#f0f921"
            ]
           ]
          },
          "colorway": [
           "#636efa",
           "#EF553B",
           "#00cc96",
           "#ab63fa",
           "#FFA15A",
           "#19d3f3",
           "#FF6692",
           "#B6E880",
           "#FF97FF",
           "#FECB52"
          ],
          "font": {
           "color": "#2a3f5f"
          },
          "geo": {
           "bgcolor": "white",
           "lakecolor": "white",
           "landcolor": "#E5ECF6",
           "showlakes": true,
           "showland": true,
           "subunitcolor": "white"
          },
          "hoverlabel": {
           "align": "left"
          },
          "hovermode": "closest",
          "mapbox": {
           "style": "light"
          },
          "paper_bgcolor": "white",
          "plot_bgcolor": "#E5ECF6",
          "polar": {
           "angularaxis": {
            "gridcolor": "white",
            "linecolor": "white",
            "ticks": ""
           },
           "bgcolor": "#E5ECF6",
           "radialaxis": {
            "gridcolor": "white",
            "linecolor": "white",
            "ticks": ""
           }
          },
          "scene": {
           "xaxis": {
            "backgroundcolor": "#E5ECF6",
            "gridcolor": "white",
            "gridwidth": 2,
            "linecolor": "white",
            "showbackground": true,
            "ticks": "",
            "zerolinecolor": "white"
           },
           "yaxis": {
            "backgroundcolor": "#E5ECF6",
            "gridcolor": "white",
            "gridwidth": 2,
            "linecolor": "white",
            "showbackground": true,
            "ticks": "",
            "zerolinecolor": "white"
           },
           "zaxis": {
            "backgroundcolor": "#E5ECF6",
            "gridcolor": "white",
            "gridwidth": 2,
            "linecolor": "white",
            "showbackground": true,
            "ticks": "",
            "zerolinecolor": "white"
           }
          },
          "shapedefaults": {
           "line": {
            "color": "#2a3f5f"
           }
          },
          "ternary": {
           "aaxis": {
            "gridcolor": "white",
            "linecolor": "white",
            "ticks": ""
           },
           "baxis": {
            "gridcolor": "white",
            "linecolor": "white",
            "ticks": ""
           },
           "bgcolor": "#E5ECF6",
           "caxis": {
            "gridcolor": "white",
            "linecolor": "white",
            "ticks": ""
           }
          },
          "title": {
           "x": 0.05
          },
          "xaxis": {
           "automargin": true,
           "gridcolor": "white",
           "linecolor": "white",
           "ticks": "",
           "title": {
            "standoff": 15
           },
           "zerolinecolor": "white",
           "zerolinewidth": 2
          },
          "yaxis": {
           "automargin": true,
           "gridcolor": "white",
           "linecolor": "white",
           "ticks": "",
           "title": {
            "standoff": 15
           },
           "zerolinecolor": "white",
           "zerolinewidth": 2
          }
         }
        },
        "title": {
         "font": {
          "size": 16
         },
         "text": "Chest X-ray Findings Tree -- CheXpert"
        },
        "xaxis": {
         "showgrid": false,
         "showticklabels": false,
         "zeroline": false
        },
        "yaxis": {
         "showgrid": false,
         "showticklabels": false,
         "zeroline": false
        }
       }
      },
      "text/html": [
       "<div>                            <div id=\"1e809f0c-769f-4b69-b118-359c6c08f867\" class=\"plotly-graph-div\" style=\"height:525px; width:100%;\"></div>            <script type=\"text/javascript\">                require([\"plotly\"], function(Plotly) {                    window.PLOTLYENV=window.PLOTLYENV || {};                                    if (document.getElementById(\"1e809f0c-769f-4b69-b118-359c6c08f867\")) {                    Plotly.newPlot(                        \"1e809f0c-769f-4b69-b118-359c6c08f867\",                        [{\"hoverinfo\":\"none\",\"line\":{\"color\":\"#888\",\"width\":0.5},\"mode\":\"lines\",\"x\":[-0.20410002282241974,-0.6249824289604848,null,-0.20410002282241974,0.2008800897204716,null,-0.20410002282241974,-0.5142360850532895,null,-0.20410002282241974,0.00972435838060992,null,-0.6249824289604848,-0.8396387004589582,null,-0.6249824289604848,-0.9382584077850169,null,0.2008800897204716,-0.011942645207484044,null,0.2008800897204716,0.6969410516615953,null,0.2008800897204716,0.17511992265473322,null,0.2008800897204716,0.3801003614155523,null,0.6969410516615953,0.8252235167865544,null,0.6969410516615953,1.0,null,0.6969410516615953,0.982013148962333,null,-0.5142360850532895,-0.6177616489437873,null,-0.5142360850532895,-0.7989582948546446,null,0.00972435838060992,0.2486483460836038,null,0.00972435838060992,0.031227438420631602,null],\"y\":[0.1577059590891816,-0.021950302673914898,null,0.1577059590891816,-0.28118160621093286,null,0.1577059590891816,0.5006757062055183,null,0.1577059590891816,0.5521195099655356,null,-0.021950302673914898,-0.24561075428539705,null,-0.021950302673914898,-0.017483667676713336,null,-0.28118160621093286,-0.45219318795390456,null,-0.28118160621093286,-0.4826302671659115,null,-0.28118160621093286,-0.5944366604189316,null,-0.28118160621093286,-0.40730388945780377,null,-0.4826302671659115,-0.77396296368791,null,-0.4826302671659115,-0.6071699010505182,null,-0.4826302671659115,-0.36482674125479936,null,0.5006757062055183,0.7986214766963227,null,0.5006757062055183,0.6331822582540114,null,0.5521195099655356,0.7443373258435796,null,0.5521195099655356,0.8621077057825867,null],\"type\":\"scatter\"},{\"hoverinfo\":\"text\",\"marker\":{\"color\":[4,3,1,1,5,1,4,1,1,1,1,1,3,1,1,3,1,1],\"colorbar\":{\"thickness\":15,\"title\":{\"side\":\"right\",\"text\":\"Node Connections\"},\"xanchor\":\"left\"},\"colorscale\":[[0.0,\"rgb(255,255,217)\"],[0.125,\"rgb(237,248,177)\"],[0.25,\"rgb(199,233,180)\"],[0.375,\"rgb(127,205,187)\"],[0.5,\"rgb(65,182,196)\"],[0.625,\"rgb(29,145,192)\"],[0.75,\"rgb(34,94,168)\"],[0.875,\"rgb(37,52,148)\"],[1.0,\"rgb(8,29,88)\"]],\"showscale\":true,\"size\":10},\"mode\":\"markers+text\",\"text\":[\"Chest X-ray Findings\",\"Heart Related Issues\",\"Enlarged Cardiomediastinum\",\"Cardiomegaly\",\"Lung Issues\",\"Lung Lesion\",\"Lung Opacity\",\"Edema\",\"Consolidation\",\"Pneumonia\",\"Atelectasis\",\"Pneumothorax\",\"Pleural Issues\",\"Pleural Effusion\",\"Pleural Other\",\"Other Issues\",\"Fracture\",\"Support Devices\"],\"textposition\":\"top center\",\"x\":[-0.20410002282241974,-0.6249824289604848,-0.8396387004589582,-0.9382584077850169,0.2008800897204716,-0.011942645207484044,0.6969410516615953,0.8252235167865544,1.0,0.982013148962333,0.17511992265473322,0.3801003614155523,-0.5142360850532895,-0.6177616489437873,-0.7989582948546446,0.00972435838060992,0.2486483460836038,0.031227438420631602],\"y\":[0.1577059590891816,-0.021950302673914898,-0.24561075428539705,-0.017483667676713336,-0.28118160621093286,-0.45219318795390456,-0.4826302671659115,-0.77396296368791,-0.6071699010505182,-0.36482674125479936,-0.5944366604189316,-0.40730388945780377,0.5006757062055183,0.7986214766963227,0.6331822582540114,0.5521195099655356,0.7443373258435796,0.8621077057825867],\"type\":\"scatter\"}],                        {\"hovermode\":\"closest\",\"margin\":{\"b\":20,\"l\":5,\"r\":5,\"t\":40},\"showlegend\":false,\"title\":{\"font\":{\"size\":16},\"text\":\"Chest X-ray Findings Tree -- CheXpert\"},\"xaxis\":{\"showgrid\":false,\"showticklabels\":false,\"zeroline\":false},\"yaxis\":{\"showgrid\":false,\"showticklabels\":false,\"zeroline\":false},\"template\":{\"data\":{\"histogram2dcontour\":[{\"type\":\"histogram2dcontour\",\"colorbar\":{\"outlinewidth\":0,\"ticks\":\"\"},\"colorscale\":[[0.0,\"#0d0887\"],[0.1111111111111111,\"#46039f\"],[0.2222222222222222,\"#7201a8\"],[0.3333333333333333,\"#9c179e\"],[0.4444444444444444,\"#bd3786\"],[0.5555555555555556,\"#d8576b\"],[0.6666666666666666,\"#ed7953\"],[0.7777777777777778,\"#fb9f3a\"],[0.8888888888888888,\"#fdca26\"],[1.0,\"#f0f921\"]]}],\"choropleth\":[{\"type\":\"choropleth\",\"colorbar\":{\"outlinewidth\":0,\"ticks\":\"\"}}],\"histogram2d\":[{\"type\":\"histogram2d\",\"colorbar\":{\"outlinewidth\":0,\"ticks\":\"\"},\"colorscale\":[[0.0,\"#0d0887\"],[0.1111111111111111,\"#46039f\"],[0.2222222222222222,\"#7201a8\"],[0.3333333333333333,\"#9c179e\"],[0.4444444444444444,\"#bd3786\"],[0.5555555555555556,\"#d8576b\"],[0.6666666666666666,\"#ed7953\"],[0.7777777777777778,\"#fb9f3a\"],[0.8888888888888888,\"#fdca26\"],[1.0,\"#f0f921\"]]}],\"heatmap\":[{\"type\":\"heatmap\",\"colorbar\":{\"outlinewidth\":0,\"ticks\":\"\"},\"colorscale\":[[0.0,\"#0d0887\"],[0.1111111111111111,\"#46039f\"],[0.2222222222222222,\"#7201a8\"],[0.3333333333333333,\"#9c179e\"],[0.4444444444444444,\"#bd3786\"],[0.5555555555555556,\"#d8576b\"],[0.6666666666666666,\"#ed7953\"],[0.7777777777777778,\"#fb9f3a\"],[0.8888888888888888,\"#fdca26\"],[1.0,\"#f0f921\"]]}],\"heatmapgl\":[{\"type\":\"heatmapgl\",\"colorbar\":{\"outlinewidth\":0,\"ticks\":\"\"},\"colorscale\":[[0.0,\"#0d0887\"],[0.1111111111111111,\"#46039f\"],[0.2222222222222222,\"#7201a8\"],[0.3333333333333333,\"#9c179e\"],[0.4444444444444444,\"#bd3786\"],[0.5555555555555556,\"#d8576b\"],[0.6666666666666666,\"#ed7953\"],[0.7777777777777778,\"#fb9f3a\"],[0.8888888888888888,\"#fdca26\"],[1.0,\"#f0f921\"]]}],\"contourcarpet\":[{\"type\":\"contourcarpet\",\"colorbar\":{\"outlinewidth\":0,\"ticks\":\"\"}}],\"contour\":[{\"type\":\"contour\",\"colorbar\":{\"outlinewidth\":0,\"ticks\":\"\"},\"colorscale\":[[0.0,\"#0d0887\"],[0.1111111111111111,\"#46039f\"],[0.2222222222222222,\"#7201a8\"],[0.3333333333333333,\"#9c179e\"],[0.4444444444444444,\"#bd3786\"],[0.5555555555555556,\"#d8576b\"],[0.6666666666666666,\"#ed7953\"],[0.7777777777777778,\"#fb9f3a\"],[0.8888888888888888,\"#fdca26\"],[1.0,\"#f0f921\"]]}],\"surface\":[{\"type\":\"surface\",\"colorbar\":{\"outlinewidth\":0,\"ticks\":\"\"},\"colorscale\":[[0.0,\"#0d0887\"],[0.1111111111111111,\"#46039f\"],[0.2222222222222222,\"#7201a8\"],[0.3333333333333333,\"#9c179e\"],[0.4444444444444444,\"#bd3786\"],[0.5555555555555556,\"#d8576b\"],[0.6666666666666666,\"#ed7953\"],[0.7777777777777778,\"#fb9f3a\"],[0.8888888888888888,\"#fdca26\"],[1.0,\"#f0f921\"]]}],\"mesh3d\":[{\"type\":\"mesh3d\",\"colorbar\":{\"outlinewidth\":0,\"ticks\":\"\"}}],\"scatter\":[{\"fillpattern\":{\"fillmode\":\"overlay\",\"size\":10,\"solidity\":0.2},\"type\":\"scatter\"}],\"parcoords\":[{\"type\":\"parcoords\",\"line\":{\"colorbar\":{\"outlinewidth\":0,\"ticks\":\"\"}}}],\"scatterpolargl\":[{\"type\":\"scatterpolargl\",\"marker\":{\"colorbar\":{\"outlinewidth\":0,\"ticks\":\"\"}}}],\"bar\":[{\"error_x\":{\"color\":\"#2a3f5f\"},\"error_y\":{\"color\":\"#2a3f5f\"},\"marker\":{\"line\":{\"color\":\"#E5ECF6\",\"width\":0.5},\"pattern\":{\"fillmode\":\"overlay\",\"size\":10,\"solidity\":0.2}},\"type\":\"bar\"}],\"scattergeo\":[{\"type\":\"scattergeo\",\"marker\":{\"colorbar\":{\"outlinewidth\":0,\"ticks\":\"\"}}}],\"scatterpolar\":[{\"type\":\"scatterpolar\",\"marker\":{\"colorbar\":{\"outlinewidth\":0,\"ticks\":\"\"}}}],\"histogram\":[{\"marker\":{\"pattern\":{\"fillmode\":\"overlay\",\"size\":10,\"solidity\":0.2}},\"type\":\"histogram\"}],\"scattergl\":[{\"type\":\"scattergl\",\"marker\":{\"colorbar\":{\"outlinewidth\":0,\"ticks\":\"\"}}}],\"scatter3d\":[{\"type\":\"scatter3d\",\"line\":{\"colorbar\":{\"outlinewidth\":0,\"ticks\":\"\"}},\"marker\":{\"colorbar\":{\"outlinewidth\":0,\"ticks\":\"\"}}}],\"scattermapbox\":[{\"type\":\"scattermapbox\",\"marker\":{\"colorbar\":{\"outlinewidth\":0,\"ticks\":\"\"}}}],\"scatterternary\":[{\"type\":\"scatterternary\",\"marker\":{\"colorbar\":{\"outlinewidth\":0,\"ticks\":\"\"}}}],\"scattercarpet\":[{\"type\":\"scattercarpet\",\"marker\":{\"colorbar\":{\"outlinewidth\":0,\"ticks\":\"\"}}}],\"carpet\":[{\"aaxis\":{\"endlinecolor\":\"#2a3f5f\",\"gridcolor\":\"white\",\"linecolor\":\"white\",\"minorgridcolor\":\"white\",\"startlinecolor\":\"#2a3f5f\"},\"baxis\":{\"endlinecolor\":\"#2a3f5f\",\"gridcolor\":\"white\",\"linecolor\":\"white\",\"minorgridcolor\":\"white\",\"startlinecolor\":\"#2a3f5f\"},\"type\":\"carpet\"}],\"table\":[{\"cells\":{\"fill\":{\"color\":\"#EBF0F8\"},\"line\":{\"color\":\"white\"}},\"header\":{\"fill\":{\"color\":\"#C8D4E3\"},\"line\":{\"color\":\"white\"}},\"type\":\"table\"}],\"barpolar\":[{\"marker\":{\"line\":{\"color\":\"#E5ECF6\",\"width\":0.5},\"pattern\":{\"fillmode\":\"overlay\",\"size\":10,\"solidity\":0.2}},\"type\":\"barpolar\"}],\"pie\":[{\"automargin\":true,\"type\":\"pie\"}]},\"layout\":{\"autotypenumbers\":\"strict\",\"colorway\":[\"#636efa\",\"#EF553B\",\"#00cc96\",\"#ab63fa\",\"#FFA15A\",\"#19d3f3\",\"#FF6692\",\"#B6E880\",\"#FF97FF\",\"#FECB52\"],\"font\":{\"color\":\"#2a3f5f\"},\"hovermode\":\"closest\",\"hoverlabel\":{\"align\":\"left\"},\"paper_bgcolor\":\"white\",\"plot_bgcolor\":\"#E5ECF6\",\"polar\":{\"bgcolor\":\"#E5ECF6\",\"angularaxis\":{\"gridcolor\":\"white\",\"linecolor\":\"white\",\"ticks\":\"\"},\"radialaxis\":{\"gridcolor\":\"white\",\"linecolor\":\"white\",\"ticks\":\"\"}},\"ternary\":{\"bgcolor\":\"#E5ECF6\",\"aaxis\":{\"gridcolor\":\"white\",\"linecolor\":\"white\",\"ticks\":\"\"},\"baxis\":{\"gridcolor\":\"white\",\"linecolor\":\"white\",\"ticks\":\"\"},\"caxis\":{\"gridcolor\":\"white\",\"linecolor\":\"white\",\"ticks\":\"\"}},\"coloraxis\":{\"colorbar\":{\"outlinewidth\":0,\"ticks\":\"\"}},\"colorscale\":{\"sequential\":[[0.0,\"#0d0887\"],[0.1111111111111111,\"#46039f\"],[0.2222222222222222,\"#7201a8\"],[0.3333333333333333,\"#9c179e\"],[0.4444444444444444,\"#bd3786\"],[0.5555555555555556,\"#d8576b\"],[0.6666666666666666,\"#ed7953\"],[0.7777777777777778,\"#fb9f3a\"],[0.8888888888888888,\"#fdca26\"],[1.0,\"#f0f921\"]],\"sequentialminus\":[[0.0,\"#0d0887\"],[0.1111111111111111,\"#46039f\"],[0.2222222222222222,\"#7201a8\"],[0.3333333333333333,\"#9c179e\"],[0.4444444444444444,\"#bd3786\"],[0.5555555555555556,\"#d8576b\"],[0.6666666666666666,\"#ed7953\"],[0.7777777777777778,\"#fb9f3a\"],[0.8888888888888888,\"#fdca26\"],[1.0,\"#f0f921\"]],\"diverging\":[[0,\"#8e0152\"],[0.1,\"#c51b7d\"],[0.2,\"#de77ae\"],[0.3,\"#f1b6da\"],[0.4,\"#fde0ef\"],[0.5,\"#f7f7f7\"],[0.6,\"#e6f5d0\"],[0.7,\"#b8e186\"],[0.8,\"#7fbc41\"],[0.9,\"#4d9221\"],[1,\"#276419\"]]},\"xaxis\":{\"gridcolor\":\"white\",\"linecolor\":\"white\",\"ticks\":\"\",\"title\":{\"standoff\":15},\"zerolinecolor\":\"white\",\"automargin\":true,\"zerolinewidth\":2},\"yaxis\":{\"gridcolor\":\"white\",\"linecolor\":\"white\",\"ticks\":\"\",\"title\":{\"standoff\":15},\"zerolinecolor\":\"white\",\"automargin\":true,\"zerolinewidth\":2},\"scene\":{\"xaxis\":{\"backgroundcolor\":\"#E5ECF6\",\"gridcolor\":\"white\",\"linecolor\":\"white\",\"showbackground\":true,\"ticks\":\"\",\"zerolinecolor\":\"white\",\"gridwidth\":2},\"yaxis\":{\"backgroundcolor\":\"#E5ECF6\",\"gridcolor\":\"white\",\"linecolor\":\"white\",\"showbackground\":true,\"ticks\":\"\",\"zerolinecolor\":\"white\",\"gridwidth\":2},\"zaxis\":{\"backgroundcolor\":\"#E5ECF6\",\"gridcolor\":\"white\",\"linecolor\":\"white\",\"showbackground\":true,\"ticks\":\"\",\"zerolinecolor\":\"white\",\"gridwidth\":2}},\"shapedefaults\":{\"line\":{\"color\":\"#2a3f5f\"}},\"annotationdefaults\":{\"arrowcolor\":\"#2a3f5f\",\"arrowhead\":0,\"arrowwidth\":1},\"geo\":{\"bgcolor\":\"white\",\"landcolor\":\"#E5ECF6\",\"subunitcolor\":\"white\",\"showland\":true,\"showlakes\":true,\"lakecolor\":\"white\"},\"title\":{\"x\":0.05},\"mapbox\":{\"style\":\"light\"}}}},                        {\"responsive\": true}                    ).then(function(){\n",
       "                            \n",
       "var gd = document.getElementById('1e809f0c-769f-4b69-b118-359c6c08f867');\n",
       "var x = new MutationObserver(function (mutations, observer) {{\n",
       "        var display = window.getComputedStyle(gd).display;\n",
       "        if (!display || display === 'none') {{\n",
       "            console.log([gd, 'removed!']);\n",
       "            Plotly.purge(gd);\n",
       "            observer.disconnect();\n",
       "        }}\n",
       "}});\n",
       "\n",
       "// Listen for the removal of the full notebook cells\n",
       "var notebookContainer = gd.closest('#notebook-container');\n",
       "if (notebookContainer) {{\n",
       "    x.observe(notebookContainer, {childList: true});\n",
       "}}\n",
       "\n",
       "// Listen for the clearing of the current output cell\n",
       "var outputEl = gd.closest('.output');\n",
       "if (outputEl) {{\n",
       "    x.observe(outputEl, {childList: true});\n",
       "}}\n",
       "\n",
       "                        })                };                });            </script>        </div>"
      ]
     },
     "metadata": {},
     "output_type": "display_data"
    }
   ],
   "source": [
    "# 创建树并生成图形\n",
    "root = build_tree()\n",
    "fig = create_plotly_tree(root)\n",
    "fig.show()"
   ]
  },
  {
   "cell_type": "markdown",
   "metadata": {},
   "source": [
    "### Distance functions"
   ]
  },
  {
   "cell_type": "code",
   "execution_count": 2,
   "metadata": {},
   "outputs": [],
   "source": [
    "# 寻找最低公共祖先\n",
    "def find_lowest_common_ancestor(root, node1, node2):\n",
    "    if root is None:\n",
    "        return None\n",
    "\n",
    "    if root.label == node1 or root.label == node2:\n",
    "        return root\n",
    "\n",
    "    common_ancestor = None\n",
    "    for child in root.children:\n",
    "        child_ancestor = find_lowest_common_ancestor(child, node1, node2)\n",
    "        if child_ancestor:\n",
    "            if common_ancestor:\n",
    "                # 如果已经有一个公共祖先，说明当前节点为最低公共祖先\n",
    "                return root\n",
    "            else:\n",
    "                # 否则更新为当前子树的公共祖先\n",
    "                common_ancestor = child_ancestor\n",
    "\n",
    "    return common_ancestor\n",
    "\n",
    "# 计算两个节点之间的距离\n",
    "def calculate_distance(root, node1, node2):\n",
    "    # 寻找最低公共祖先\n",
    "    lca = find_lowest_common_ancestor(root, node1, node2)\n",
    "\n",
    "    # 计算两个节点到最低公共祖先的距离\n",
    "    distance1 = find_distance_to_node(lca, node1, 0)\n",
    "    distance2 = find_distance_to_node(lca, node2, 0)\n",
    "\n",
    "    # 总距离为两者之和\n",
    "    total_distance = distance1 + distance2\n",
    "    return total_distance\n",
    "\n",
    "# 计算节点到祖先的距离\n",
    "def find_distance_to_node(current, target, distance):\n",
    "    if current is None:\n",
    "        return float('inf')\n",
    "\n",
    "    if current.label == target:\n",
    "        return distance\n",
    "\n",
    "    for child in current.children:\n",
    "        distance_to_child = find_distance_to_node(child, target, distance + 1)\n",
    "        if distance_to_child != float('inf'):\n",
    "            return distance_to_child\n",
    "\n",
    "    return float('inf')\n"
   ]
  },
  {
   "cell_type": "code",
   "execution_count": 44,
   "metadata": {},
   "outputs": [
    {
     "name": "stdout",
     "output_type": "stream",
     "text": [
      "Distance between Node Enlarged Cardiomediastinum and Node Fracture: 4\n",
      "tensor([[1., 4., 3., 3., 4., 4., 2., 2., 4., 4., 3., 2., 4.],\n",
      "        [4., 1., 5., 5., 2., 4., 4., 4., 4., 4., 5., 4., 4.],\n",
      "        [3., 5., 1., 2., 5., 5., 3., 1., 5., 5., 2., 3., 5.],\n",
      "        [3., 5., 2., 1., 5., 5., 3., 1., 5., 5., 2., 3., 5.],\n",
      "        [4., 2., 5., 5., 1., 4., 4., 4., 4., 4., 5., 4., 4.],\n",
      "        [4., 4., 5., 5., 4., 1., 4., 4., 4., 4., 5., 4., 2.],\n",
      "        [2., 4., 3., 3., 4., 4., 1., 2., 4., 4., 3., 2., 4.],\n",
      "        [2., 4., 1., 1., 4., 4., 2., 1., 4., 4., 1., 2., 4.],\n",
      "        [4., 4., 5., 5., 4., 4., 4., 4., 1., 2., 5., 4., 4.],\n",
      "        [4., 4., 5., 5., 4., 4., 4., 4., 2., 1., 5., 4., 4.],\n",
      "        [3., 5., 2., 2., 5., 5., 3., 1., 5., 5., 1., 3., 5.],\n",
      "        [2., 4., 3., 3., 4., 4., 2., 2., 4., 4., 3., 1., 4.],\n",
      "        [4., 4., 5., 5., 4., 2., 4., 4., 4., 4., 5., 4., 1.]])\n",
      "distance:\n",
      " tensor([[0.0857, 0.3430, 0.2572, 0.2572, 0.3430, 0.3430, 0.1715, 0.1715, 0.3430,\n",
      "         0.3430, 0.2572, 0.1715, 0.3430],\n",
      "        [0.2774, 0.0693, 0.3467, 0.3467, 0.1387, 0.2774, 0.2774, 0.2774, 0.2774,\n",
      "         0.2774, 0.3467, 0.2774, 0.2774],\n",
      "        [0.2194, 0.3656, 0.0731, 0.1463, 0.3656, 0.3656, 0.2194, 0.0731, 0.3656,\n",
      "         0.3656, 0.1463, 0.2194, 0.3656],\n",
      "        [0.2194, 0.3656, 0.1463, 0.0731, 0.3656, 0.3656, 0.2194, 0.0731, 0.3656,\n",
      "         0.3656, 0.1463, 0.2194, 0.3656],\n",
      "        [0.2774, 0.1387, 0.3467, 0.3467, 0.0693, 0.2774, 0.2774, 0.2774, 0.2774,\n",
      "         0.2774, 0.3467, 0.2774, 0.2774],\n",
      "        [0.2774, 0.2774, 0.3467, 0.3467, 0.2774, 0.0693, 0.2774, 0.2774, 0.2774,\n",
      "         0.2774, 0.3467, 0.2774, 0.1387],\n",
      "        [0.1715, 0.3430, 0.2572, 0.2572, 0.3430, 0.3430, 0.0857, 0.1715, 0.3430,\n",
      "         0.3430, 0.2572, 0.1715, 0.3430],\n",
      "        [0.1890, 0.3780, 0.0945, 0.0945, 0.3780, 0.3780, 0.1890, 0.0945, 0.3780,\n",
      "         0.3780, 0.0945, 0.1890, 0.3780],\n",
      "        [0.2774, 0.2774, 0.3467, 0.3467, 0.2774, 0.2774, 0.2774, 0.2774, 0.0693,\n",
      "         0.1387, 0.3467, 0.2774, 0.2774],\n",
      "        [0.2774, 0.2774, 0.3467, 0.3467, 0.2774, 0.2774, 0.2774, 0.2774, 0.1387,\n",
      "         0.0693, 0.3467, 0.2774, 0.2774],\n",
      "        [0.2194, 0.3656, 0.1463, 0.1463, 0.3656, 0.3656, 0.2194, 0.0731, 0.3656,\n",
      "         0.3656, 0.0731, 0.2194, 0.3656],\n",
      "        [0.1715, 0.3430, 0.2572, 0.2572, 0.3430, 0.3430, 0.1715, 0.1715, 0.3430,\n",
      "         0.3430, 0.2572, 0.0857, 0.3430],\n",
      "        [0.2774, 0.2774, 0.3467, 0.3467, 0.2774, 0.1387, 0.2774, 0.2774, 0.2774,\n",
      "         0.2774, 0.3467, 0.2774, 0.0693]])\n",
      "correlation:\n",
      " tensor([[0.6378, 0.1594, 0.2126, 0.2126, 0.1594, 0.1594, 0.3189, 0.3189, 0.1594,\n",
      "         0.1594, 0.2126, 0.3189, 0.1594],\n",
      "        [0.1828, 0.7313, 0.1463, 0.1463, 0.3656, 0.1828, 0.1828, 0.1828, 0.1828,\n",
      "         0.1828, 0.1463, 0.1828, 0.1828],\n",
      "        [0.1901, 0.1141, 0.5704, 0.2852, 0.1141, 0.1141, 0.1901, 0.5704, 0.1141,\n",
      "         0.1141, 0.2852, 0.1901, 0.1141],\n",
      "        [0.1901, 0.1141, 0.2852, 0.5704, 0.1141, 0.1141, 0.1901, 0.5704, 0.1141,\n",
      "         0.1141, 0.2852, 0.1901, 0.1141],\n",
      "        [0.1828, 0.3656, 0.1463, 0.1463, 0.7313, 0.1828, 0.1828, 0.1828, 0.1828,\n",
      "         0.1828, 0.1463, 0.1828, 0.1828],\n",
      "        [0.1828, 0.1828, 0.1463, 0.1463, 0.1828, 0.7313, 0.1828, 0.1828, 0.1828,\n",
      "         0.1828, 0.1463, 0.1828, 0.3656],\n",
      "        [0.3189, 0.1594, 0.2126, 0.2126, 0.1594, 0.1594, 0.6378, 0.3189, 0.1594,\n",
      "         0.1594, 0.2126, 0.3189, 0.1594],\n",
      "        [0.2209, 0.1104, 0.4417, 0.4417, 0.1104, 0.1104, 0.2209, 0.4417, 0.1104,\n",
      "         0.1104, 0.4417, 0.2209, 0.1104],\n",
      "        [0.1828, 0.1828, 0.1463, 0.1463, 0.1828, 0.1828, 0.1828, 0.1828, 0.7313,\n",
      "         0.3656, 0.1463, 0.1828, 0.1828],\n",
      "        [0.1828, 0.1828, 0.1463, 0.1463, 0.1828, 0.1828, 0.1828, 0.1828, 0.3656,\n",
      "         0.7313, 0.1463, 0.1828, 0.1828],\n",
      "        [0.1901, 0.1141, 0.2852, 0.2852, 0.1141, 0.1141, 0.1901, 0.5704, 0.1141,\n",
      "         0.1141, 0.5704, 0.1901, 0.1141],\n",
      "        [0.3189, 0.1594, 0.2126, 0.2126, 0.1594, 0.1594, 0.3189, 0.3189, 0.1594,\n",
      "         0.1594, 0.2126, 0.6378, 0.1594],\n",
      "        [0.1828, 0.1828, 0.1463, 0.1463, 0.1828, 0.3656, 0.1828, 0.1828, 0.1828,\n",
      "         0.1828, 0.1463, 0.1828, 0.7313]])\n"
     ]
    }
   ],
   "source": [
    "# 构建树\n",
    "tree_root = build_tree()\n",
    "\n",
    "# 选择两个节点\n",
    "node1_label = \"Enlarged Cardiomediastinum\"\n",
    "node2_label = \"Fracture\"\n",
    "\n",
    "# 计算两个节点之间的距离\n",
    "distance = calculate_distance(tree_root, node1_label, node2_label)\n",
    "\n",
    "print(f\"Distance between Node {node1_label} and Node {node2_label}: {distance}\")\n",
    "\n",
    "\n",
    "CHEXPERT_LABELS = [\n",
    " 'Atelectasis',\n",
    " 'Cardiomegaly',\n",
    " 'Consolidation',\n",
    " 'Edema',\n",
    " 'Enlarged Cardiomediastinum',\n",
    " 'Fracture',\n",
    " 'Lung Lesion',\n",
    " 'Lung Opacity',\n",
    "#  'No Finding',\n",
    " 'Pleural Effusion',\n",
    " 'Pleural Other',\n",
    " 'Pneumonia',\n",
    " 'Pneumothorax',\n",
    " \"Support Devices\"\n",
    "]\n",
    "\n",
    "import torch\n",
    "import torch.nn.functional as F\n",
    "n = len(CHEXPERT_LABELS)\n",
    "\n",
    "import numpy as np\n",
    "\n",
    "def create_negative_one_matrix(n):\n",
    "    return np.full((n, n), -1)\n",
    "\n",
    "negative_one_matrix = create_negative_one_matrix(n)\n",
    "matrix = negative_one_matrix.copy()\n",
    "\n",
    "# Print the created matrix\n",
    "for i, j in enumerate(CHEXPERT_LABELS):\n",
    "  for x,y in enumerate(CHEXPERT_LABELS):\n",
    "    if j == y:\n",
    "      matrix[i][x] = 1 \n",
    "      continue\n",
    "    node1_label = j\n",
    "    node2_label = y\n",
    "    distance = calculate_distance(tree_root, node1_label, node2_label)\n",
    "    matrix[i][x] = distance\n",
    "matrix = torch.tensor(matrix).float()\n",
    "corr_matrix = 1/matrix\n",
    "\n",
    "\n",
    "def safe_divide(a, b):\n",
    "    # 使用 torch.where 处理除零情况\n",
    "    result = torch.where(b != 0, a / b, torch.tensor(0.0))\n",
    "    return result\n",
    "  \n",
    "# matrix = safe_divide(1, matrix)\n",
    "print(matrix)\n",
    "normalized_distance_matrix = F.normalize(matrix, p=2, dim=1)\n",
    "normalized_corr_matrix = F.normalize(corr_matrix, p=2, dim=1)\n",
    "# torch.save(normalized_matrix, './constants/normalized_distance_matrix.pt')\n",
    "print(\"distance:\\n\",normalized_distance_matrix)\n",
    "print(\"correlation:\\n\",normalized_corr_matrix)\n",
    "torch.save(normalized_corr_matrix, '../constants/CHEXPERT/normalized_corr_matrix.pt')"
   ]
  },
  {
   "cell_type": "markdown",
   "metadata": {},
   "source": [
    "基于graph中各个节点之间的距离，使用节点之间的距离来反应不同节点之间的相关性。 假设graph上每条边的权重都是1   \n",
    "借鉴GCN中在信息传递的时候，在每个节点上加上自环，代表说一个社区可以"
   ]
  },
  {
   "cell_type": "markdown",
   "metadata": {},
   "source": [
    "## NIH"
   ]
  },
  {
   "cell_type": "code",
   "execution_count": 54,
   "metadata": {},
   "outputs": [
    {
     "name": "stdout",
     "output_type": "stream",
     "text": [
      "Medical Conditions\n",
      "    Respiratory Conditions\n",
      "        Atelectasis\n",
      "            Mass\n",
      "            Pneumonia\n",
      "        Consolidation\n",
      "            Pneumonia\n",
      "        Edema\n",
      "            Effusion\n",
      "        Emphysema\n",
      "        Fibrosis\n",
      "        Infiltration\n",
      "        Mass\n",
      "            Atelectasis\n",
      "        Nodule\n",
      "        Pleural_Thickening\n",
      "        Pneumonia\n",
      "            Consolidation\n",
      "        Pneumothorax\n",
      "    Cardiac Conditions\n",
      "        Cardiomegaly\n",
      "            Edema\n",
      "            Effusion\n",
      "    Other Conditions\n",
      "        Hernia\n"
     ]
    }
   ],
   "source": [
    "class TreeNode:\n",
    "    def __init__(self, label, children=None):\n",
    "        self.label = label\n",
    "        self.children = children or []\n",
    "\n",
    "# 创建树状结构\n",
    "root = TreeNode('Medical Conditions', [\n",
    "    TreeNode('Respiratory Conditions', [\n",
    "        TreeNode('Atelectasis', [\n",
    "            TreeNode('Mass'),\n",
    "            TreeNode('Pneumonia')\n",
    "        ]),\n",
    "        TreeNode('Consolidation', [\n",
    "            TreeNode('Pneumonia')\n",
    "        ]),\n",
    "        TreeNode('Edema', [\n",
    "            TreeNode('Effusion')\n",
    "        ]),\n",
    "        TreeNode('Emphysema'),\n",
    "        TreeNode('Fibrosis'),\n",
    "        TreeNode('Infiltration'),\n",
    "        TreeNode('Mass', [\n",
    "            TreeNode('Atelectasis')\n",
    "        ]),\n",
    "        TreeNode('Nodule'),\n",
    "        TreeNode('Pleural_Thickening'),\n",
    "        TreeNode('Pneumonia', [\n",
    "            TreeNode('Consolidation')\n",
    "        ]),\n",
    "        TreeNode('Pneumothorax')\n",
    "    ]),\n",
    "    TreeNode('Cardiac Conditions', [\n",
    "        TreeNode('Cardiomegaly', [\n",
    "            TreeNode('Edema'),\n",
    "            TreeNode('Effusion')\n",
    "        ])\n",
    "    ]),\n",
    "    TreeNode('Other Conditions', [\n",
    "        TreeNode('Hernia')\n",
    "    ])\n",
    "])\n",
    "\n",
    "# 打印树状结构\n",
    "def print_tree(node, level=0):\n",
    "    print(' ' * level * 4 + node.label)\n",
    "    for child in node.children:\n",
    "        print_tree(child, level + 1)\n",
    "\n",
    "print_tree(root)\n",
    "\n",
    "\n"
   ]
  },
  {
   "cell_type": "markdown",
   "metadata": {},
   "source": [
    "#### Structure Vis."
   ]
  },
  {
   "cell_type": "code",
   "execution_count": 12,
   "metadata": {},
   "outputs": [
    {
     "data": {
      "application/vnd.jupyter.widget-view+json": {
       "model_id": "c15003c16bf74489b624a94842d9df0f",
       "version_major": 2,
       "version_minor": 0
      },
      "text/plain": [
       "FigureWidget({\n",
       "    'data': [{'hoverinfo': 'none',\n",
       "              'line': {'color': '#888', 'width': 0.5},\n",
       "              'mode': 'lines',\n",
       "              'type': 'scatter',\n",
       "              'uid': '201c2574-a579-4e47-837f-4d540285fefb',\n",
       "              'x': [0.5087912555878398, -0.17264195540217742, None,\n",
       "                    0.5087912555878398, 0.2173753401240641, None,\n",
       "                    0.5087912555878398, 1.0, None, -0.17264195540217742,\n",
       "                    -0.4904634598516633, None, -0.17264195540217742,\n",
       "                    -0.2600346940083654, None, -0.17264195540217742,\n",
       "                    0.12524757949813514, None, -0.17264195540217742,\n",
       "                    -0.6721569049018644, None, -0.17264195540217742,\n",
       "                    -0.49384776720521656, None, -0.17264195540217742,\n",
       "                    -0.379681057356912, None, -0.17264195540217742,\n",
       "                    -0.1356664413746154, None, -0.17264195540217742,\n",
       "                    -0.5437455253891325, None, -0.17264195540217742,\n",
       "                    0.43874729373282517, None, -0.17264195540217742,\n",
       "                    -0.6012036567529088, None, -0.17264195540217742,\n",
       "                    0.058448370995804355, None, -0.4904634598516633,\n",
       "                    -0.1356664413746154, None, -0.4904634598516633,\n",
       "                    -0.6012036567529088, None, -0.6012036567529088,\n",
       "                    -0.2600346940083654, None, 0.12524757949813514,\n",
       "                    0.18528871914958933, None, 0.12524757949813514,\n",
       "                    0.27027197312574586, None, 0.18528871914958933,\n",
       "                    0.27027197312574586, None, 0.2173753401240641,\n",
       "                    0.27027197312574586, None, 1.0, 0.9452709300288519, None],\n",
       "              'y': [0.16795729712517915, 0.06275350182826366, None,\n",
       "                    0.16795729712517915, 0.17761713577108926, None,\n",
       "                    0.16795729712517915, -0.04214626109032411, None,\n",
       "                    0.06275350182826366, -0.10820911750095151, None,\n",
       "                    0.06275350182826366, 0.4256412661978303, None,\n",
       "                    0.06275350182826366, -0.5132284296918177, None,\n",
       "                    0.06275350182826366, -0.29791329561347385, None,\n",
       "                    0.06275350182826366, -0.493597801955714, None,\n",
       "                    0.06275350182826366, 0.7002725539630879, None,\n",
       "                    0.06275350182826366, -0.3472967071202501, None,\n",
       "                    0.06275350182826366, 0.424523417680862, None,\n",
       "                    0.06275350182826366, -0.08066849225172194, None,\n",
       "                    0.06275350182826366, 0.19287413380734733, None,\n",
       "                    0.06275350182826366, 0.6423925001774389, None,\n",
       "                    -0.10820911750095151, -0.3472967071202501, None,\n",
       "                    -0.10820911750095151, 0.19287413380734733, None,\n",
       "                    0.19287413380734733, 0.4256412661978303, None,\n",
       "                    -0.5132284296918177, -0.8106321670483195, None,\n",
       "                    -0.5132284296918177, -0.34056791262785036, None,\n",
       "                    -0.8106321670483195, -0.34056791262785036, None,\n",
       "                    0.17761713577108926, -0.34056791262785036, None,\n",
       "                    -0.04214626109032411, 0.24022837834932448, None]},\n",
       "             {'hoverinfo': 'text',\n",
       "              'marker': {'color': [0, 1, 2, 2, 2, 2, 2, 3, 2, 2, 2, 2, 2, 2, 1, 2,\n",
       "                                   1, 2],\n",
       "                         'colorbar': {'thickness': 15,\n",
       "                                      'title': {'side': 'right', 'text': 'Node Depth'},\n",
       "                                      'xanchor': 'left'},\n",
       "                         'colorscale': [[0.0, '#440154'], [0.1111111111111111,\n",
       "                                        '#482878'], [0.2222222222222222,\n",
       "                                        '#3e4989'], [0.3333333333333333,\n",
       "                                        '#31688e'], [0.4444444444444444,\n",
       "                                        '#26828e'], [0.5555555555555556,\n",
       "                                        '#1f9e89'], [0.6666666666666666,\n",
       "                                        '#35b779'], [0.7777777777777778,\n",
       "                                        '#6ece58'], [0.8888888888888888,\n",
       "                                        '#b5de2b'], [1.0, '#fde725']],\n",
       "                         'showscale': True,\n",
       "                         'size': 10},\n",
       "              'mode': 'markers+text',\n",
       "              'text': [Medical Conditions, Respiratory Conditions, Atelectasis,\n",
       "                       Mass, Pneumonia, Consolidation, Edema, Effusion, Emphysema,\n",
       "                       Fibrosis, Infiltration, Nodule, Pleural_Thickening,\n",
       "                       Pneumothorax, Cardiac Conditions, Cardiomegaly, Other\n",
       "                       Conditions, Hernia],\n",
       "              'textposition': 'top center',\n",
       "              'type': 'scatter',\n",
       "              'uid': '301568b2-d2ab-4c23-86ac-0ee8898f52c0',\n",
       "              'x': [0.5087912555878398, -0.17264195540217742, -0.4904634598516633,\n",
       "                    -0.1356664413746154, -0.6012036567529088, -0.2600346940083654,\n",
       "                    0.12524757949813514, 0.18528871914958933, -0.6721569049018644,\n",
       "                    -0.49384776720521656, -0.379681057356912, -0.5437455253891325,\n",
       "                    0.43874729373282517, 0.058448370995804355, 0.2173753401240641,\n",
       "                    0.27027197312574586, 1.0, 0.9452709300288519],\n",
       "              'y': [0.16795729712517915, 0.06275350182826366,\n",
       "                    -0.10820911750095151, -0.3472967071202501, 0.19287413380734733,\n",
       "                    0.4256412661978303, -0.5132284296918177, -0.8106321670483195,\n",
       "                    -0.29791329561347385, -0.493597801955714, 0.7002725539630879,\n",
       "                    0.424523417680862, -0.08066849225172194, 0.6423925001774389,\n",
       "                    0.17761713577108926, -0.34056791262785036,\n",
       "                    -0.04214626109032411, 0.24022837834932448]}],\n",
       "    'layout': {'dragmode': 'pan',\n",
       "               'hovermode': 'closest',\n",
       "               'margin': {'b': 20, 'l': 5, 'r': 5, 't': 40},\n",
       "               'showlegend': False,\n",
       "               'template': '...',\n",
       "               'title': {'font': {'size': 16}, 'text': 'Medical Conditions Tree (Drag nodes to reposition)'},\n",
       "               'xaxis': {'showgrid': False, 'showticklabels': False, 'zeroline': False},\n",
       "               'yaxis': {'showgrid': False, 'showticklabels': False, 'zeroline': False}}\n",
       "})"
      ]
     },
     "metadata": {},
     "output_type": "display_data"
    }
   ],
   "source": [
    "import plotly.graph_objects as go\n",
    "import networkx as nx\n",
    "\n",
    "class TreeNode:\n",
    "    def __init__(self, label, children=None):\n",
    "        self.label = label\n",
    "        self.children = children or []\n",
    "\n",
    "def build_tree():\n",
    "    return TreeNode('Medical Conditions', [\n",
    "        TreeNode('Respiratory Conditions', [\n",
    "            TreeNode('Atelectasis', [\n",
    "                TreeNode('Mass'),\n",
    "                TreeNode('Pneumonia')\n",
    "            ]),\n",
    "            TreeNode('Consolidation', [\n",
    "                TreeNode('Pneumonia')\n",
    "            ]),\n",
    "            TreeNode('Edema', [\n",
    "                TreeNode('Effusion')\n",
    "            ]),\n",
    "            TreeNode('Emphysema'),\n",
    "            TreeNode('Fibrosis'),\n",
    "            TreeNode('Infiltration'),\n",
    "            TreeNode('Mass', [\n",
    "                TreeNode('Atelectasis')\n",
    "            ]),\n",
    "            TreeNode('Nodule'),\n",
    "            TreeNode('Pleural_Thickening'),\n",
    "            TreeNode('Pneumonia', [\n",
    "                TreeNode('Consolidation')\n",
    "            ]),\n",
    "            TreeNode('Pneumothorax')\n",
    "        ]),\n",
    "        TreeNode('Cardiac Conditions', [\n",
    "            TreeNode('Cardiomegaly', [\n",
    "                TreeNode('Edema'),\n",
    "                TreeNode('Effusion')\n",
    "            ])\n",
    "        ]),\n",
    "        TreeNode('Other Conditions', [\n",
    "            TreeNode('Hernia')\n",
    "        ])\n",
    "    ])\n",
    "\n",
    "def tree_to_networkx(node, graph=None, parent=None):\n",
    "    if graph is None:\n",
    "        graph = nx.Graph()\n",
    "    \n",
    "    graph.add_node(node.label)\n",
    "    \n",
    "    if parent:\n",
    "        graph.add_edge(parent.label, node.label)\n",
    "    \n",
    "    for child in node.children:\n",
    "        tree_to_networkx(child, graph, node)\n",
    "    \n",
    "    return graph\n",
    "\n",
    "def create_interactive_tree(root):\n",
    "    G = tree_to_networkx(root)\n",
    "    pos = nx.spring_layout(G, k=0.9, iterations=50)\n",
    "\n",
    "    edge_x = []\n",
    "    edge_y = []\n",
    "    for edge in G.edges():\n",
    "        x0, y0 = pos[edge[0]]\n",
    "        x1, y1 = pos[edge[1]]\n",
    "        edge_x.extend([x0, x1, None])\n",
    "        edge_y.extend([y0, y1, None])\n",
    "\n",
    "    edge_trace = go.Scatter(\n",
    "        x=edge_x, y=edge_y,\n",
    "        line=dict(width=0.5, color='#888'),\n",
    "        hoverinfo='none',\n",
    "        mode='lines')\n",
    "\n",
    "    node_x = [pos[node][0] for node in G.nodes()]\n",
    "    node_y = [pos[node][1] for node in G.nodes()]\n",
    "\n",
    "    node_trace = go.Scatter(\n",
    "        x=node_x, y=node_y,\n",
    "        mode='markers+text',\n",
    "        hoverinfo='text',\n",
    "        text=[node for node in G.nodes()],\n",
    "        textposition=\"top center\",\n",
    "        marker=dict(\n",
    "            showscale=True,\n",
    "            colorscale='Viridis',\n",
    "            size=10,\n",
    "            color=[],\n",
    "            colorbar=dict(\n",
    "                thickness=15,\n",
    "                title='Node Depth',\n",
    "                xanchor='left',\n",
    "                titleside='right'\n",
    "            )\n",
    "        )\n",
    "    )\n",
    "\n",
    "    node_depths = nx.shortest_path_length(G, source=root.label)\n",
    "    node_trace.marker.color = [node_depths[node] for node in G.nodes()]\n",
    "\n",
    "    fig = go.FigureWidget(data=[edge_trace, node_trace],\n",
    "                          layout=go.Layout(\n",
    "                              title='Medical Conditions Tree (Drag nodes to reposition)',\n",
    "                              titlefont_size=16,\n",
    "                              showlegend=False,\n",
    "                              hovermode='closest',\n",
    "                              margin=dict(b=20,l=5,r=5,t=40),\n",
    "                              xaxis=dict(showgrid=False, zeroline=False, showticklabels=False),\n",
    "                              yaxis=dict(showgrid=False, zeroline=False, showticklabels=False),\n",
    "                              dragmode='pan'\n",
    "                          ))\n",
    "\n",
    "    def update_point(trace, points, selector):\n",
    "        if len(points.point_inds) > 0:\n",
    "            ind = points.point_inds[0]\n",
    "            node_name = trace.text[ind]\n",
    "            x, y = points.xs[0], points.ys[0]\n",
    "            pos[node_name] = (x, y)\n",
    "            \n",
    "            with fig.batch_update():\n",
    "                # 更新节点位置\n",
    "                trace.x = [pos[node][0] for node in G.nodes()]\n",
    "                trace.y = [pos[node][1] for node in G.nodes()]\n",
    "                \n",
    "                # 更新边的位置\n",
    "                edge_x = []\n",
    "                edge_y = []\n",
    "                for edge in G.edges():\n",
    "                    x0, y0 = pos[edge[0]]\n",
    "                    x1, y1 = pos[edge[1]]\n",
    "                    edge_x.extend([x0, x1, None])\n",
    "                    edge_y.extend([y0, y1, None])\n",
    "                fig.data[0].x = edge_x\n",
    "                fig.data[0].y = edge_y\n",
    "\n",
    "    fig.data[1].on_click(update_point)\n",
    "\n",
    "    return fig\n",
    "\n",
    "# 创建树并生成图形\n",
    "root = build_tree()\n",
    "fig = create_interactive_tree(root)\n",
    "display(fig)"
   ]
  },
  {
   "cell_type": "code",
   "execution_count": 56,
   "metadata": {},
   "outputs": [
    {
     "name": "stdout",
     "output_type": "stream",
     "text": [
      "1\n",
      "4\n",
      "4\n",
      "1\n"
     ]
    }
   ],
   "source": [
    "from collections import deque\n",
    "\n",
    "class TreeNode:\n",
    "    def __init__(self, label, children=None):\n",
    "        self.label = label\n",
    "        self.children = children or []\n",
    "\n",
    "def find_node(root, label):\n",
    "    \"\"\"在树中找到特定标签的节点\"\"\"\n",
    "    if root.label == label:\n",
    "        return root\n",
    "    for child in root.children:\n",
    "        found = find_node(child, label)\n",
    "        if found:\n",
    "            return found\n",
    "    return None\n",
    "\n",
    "def find_path_to_root(node, target_label):\n",
    "    \"\"\"找到从给定节点到包含目标标签的祖先节点的路径\"\"\"\n",
    "    path = []\n",
    "    current = node\n",
    "    while current:\n",
    "        path.append(current.label)\n",
    "        if current.label == target_label:\n",
    "            return path\n",
    "        parent = None\n",
    "        for child in current.children:\n",
    "            if find_node(child, target_label):\n",
    "                parent = child\n",
    "                break\n",
    "        current = parent\n",
    "    return None\n",
    "\n",
    "def find_lowest_common_ancestor(root, label1, label2):\n",
    "    \"\"\"找到两个标签的最低共同祖先\"\"\"\n",
    "    path1 = find_path_to_root(root, label1)\n",
    "    path2 = find_path_to_root(root, label2)\n",
    "    if not path1 or not path2:\n",
    "        return None\n",
    "    i = 0\n",
    "    while i < len(path1) and i < len(path2) and path1[i] == path2[i]:\n",
    "        i += 1\n",
    "    return path1[i-1] if i > 0 else None\n",
    "\n",
    "def calculate_distance(root, label1, label2):\n",
    "    \"\"\"计算两个标签之间的距离\"\"\"\n",
    "    lca = find_lowest_common_ancestor(root, label1, label2)\n",
    "    if not lca:\n",
    "        return None\n",
    "    \n",
    "    path1 = find_path_to_root(root, label1)\n",
    "    path2 = find_path_to_root(root, label2)\n",
    "    \n",
    "    lca_index1 = path1.index(lca)\n",
    "    lca_index2 = path2.index(lca)\n",
    "    \n",
    "    return len(path1) - lca_index1 + len(path2) - lca_index2 - 2\n",
    "\n",
    "# 示例使用\n",
    "root = TreeNode('Medical Conditions', [\n",
    "    TreeNode('Respiratory Conditions', [\n",
    "        TreeNode('Atelectasis', [\n",
    "            TreeNode('Mass'),\n",
    "            TreeNode('Pneumonia')\n",
    "        ]),\n",
    "        TreeNode('Consolidation', [\n",
    "            TreeNode('Pneumonia')\n",
    "        ]),\n",
    "        TreeNode('Edema', [\n",
    "            TreeNode('Effusion')\n",
    "        ]),\n",
    "        TreeNode('Emphysema'),\n",
    "        TreeNode('Fibrosis'),\n",
    "        TreeNode('Infiltration'),\n",
    "        TreeNode('Mass', [\n",
    "            TreeNode('Atelectasis')\n",
    "        ]),\n",
    "        TreeNode('Nodule'),\n",
    "        TreeNode('Pleural_Thickening'),\n",
    "        TreeNode('Pneumonia', [\n",
    "            TreeNode('Consolidation')\n",
    "        ]),\n",
    "        TreeNode('Pneumothorax')\n",
    "    ]),\n",
    "    TreeNode('Cardiac Conditions', [\n",
    "        TreeNode('Cardiomegaly', [\n",
    "            TreeNode('Edema'),\n",
    "            TreeNode('Effusion')\n",
    "        ])\n",
    "    ]),\n",
    "    TreeNode('Other Conditions', [\n",
    "        TreeNode('Hernia')\n",
    "    ])\n",
    "])\n",
    "\n",
    "# 测试函数\n",
    "print(calculate_distance(root, 'Atelectasis', 'Pneumonia'))  # 应该返回 1\n",
    "print(calculate_distance(root, 'Atelectasis', 'Cardiomegaly'))  # 应该返回 3\n",
    "print(calculate_distance(root, 'Hernia', 'Pneumothorax'))  # 应该返回 3\n",
    "print(calculate_distance(root, 'Edema', 'Effusion'))  # 应该返回 1"
   ]
  },
  {
   "cell_type": "code",
   "execution_count": 57,
   "metadata": {},
   "outputs": [
    {
     "name": "stdout",
     "output_type": "stream",
     "text": [
      "Distance Matrix:\n",
      "[[0 4 2 2 3 2 2 4 2 1 2 2 1 2]\n",
      " [4 0 4 4 5 4 4 4 4 5 4 4 5 4]\n",
      " [2 4 0 2 3 2 2 4 2 3 2 2 3 2]\n",
      " [2 4 2 0 1 2 2 4 2 3 2 2 3 2]\n",
      " [3 5 3 1 0 3 3 5 3 4 3 3 4 3]\n",
      " [2 4 2 2 3 0 2 4 2 3 2 2 3 2]\n",
      " [2 4 2 2 3 2 0 4 2 3 2 2 3 2]\n",
      " [4 4 4 4 5 4 4 0 4 5 4 4 5 4]\n",
      " [2 4 2 2 3 2 2 4 0 3 2 2 3 2]\n",
      " [1 5 3 3 4 3 3 5 3 0 3 3 2 3]\n",
      " [2 4 2 2 3 2 2 4 2 3 0 2 3 2]\n",
      " [2 4 2 2 3 2 2 4 2 3 2 0 3 2]\n",
      " [1 5 3 3 4 3 3 5 3 2 3 3 0 3]\n",
      " [2 4 2 2 3 2 2 4 2 3 2 2 3 0]]\n",
      "\n",
      "Distance Matrix (Pandas DataFrame):\n",
      "                    Atelectasis  Cardiomegaly  Consolidation  Edema  Effusion  \\\n",
      "Atelectasis                   0             4              2      2         3   \n",
      "Cardiomegaly                  4             0              4      4         5   \n",
      "Consolidation                 2             4              0      2         3   \n",
      "Edema                         2             4              2      0         1   \n",
      "Effusion                      3             5              3      1         0   \n",
      "Emphysema                     2             4              2      2         3   \n",
      "Fibrosis                      2             4              2      2         3   \n",
      "Hernia                        4             4              4      4         5   \n",
      "Infiltration                  2             4              2      2         3   \n",
      "Mass                          1             5              3      3         4   \n",
      "Nodule                        2             4              2      2         3   \n",
      "Pleural_Thickening            2             4              2      2         3   \n",
      "Pneumonia                     1             5              3      3         4   \n",
      "Pneumothorax                  2             4              2      2         3   \n",
      "\n",
      "                    Emphysema  Fibrosis  Hernia  Infiltration  Mass  Nodule  \\\n",
      "Atelectasis                 2         2       4             2     1       2   \n",
      "Cardiomegaly                4         4       4             4     5       4   \n",
      "Consolidation               2         2       4             2     3       2   \n",
      "Edema                       2         2       4             2     3       2   \n",
      "Effusion                    3         3       5             3     4       3   \n",
      "Emphysema                   0         2       4             2     3       2   \n",
      "Fibrosis                    2         0       4             2     3       2   \n",
      "Hernia                      4         4       0             4     5       4   \n",
      "Infiltration                2         2       4             0     3       2   \n",
      "Mass                        3         3       5             3     0       3   \n",
      "Nodule                      2         2       4             2     3       0   \n",
      "Pleural_Thickening          2         2       4             2     3       2   \n",
      "Pneumonia                   3         3       5             3     2       3   \n",
      "Pneumothorax                2         2       4             2     3       2   \n",
      "\n",
      "                    Pleural_Thickening  Pneumonia  Pneumothorax  \n",
      "Atelectasis                          2          1             2  \n",
      "Cardiomegaly                         4          5             4  \n",
      "Consolidation                        2          3             2  \n",
      "Edema                                2          3             2  \n",
      "Effusion                             3          4             3  \n",
      "Emphysema                            2          3             2  \n",
      "Fibrosis                             2          3             2  \n",
      "Hernia                               4          5             4  \n",
      "Infiltration                         2          3             2  \n",
      "Mass                                 3          2             3  \n",
      "Nodule                               2          3             2  \n",
      "Pleural_Thickening                   0          3             2  \n",
      "Pneumonia                            3          0             3  \n",
      "Pneumothorax                         2          3             0  \n"
     ]
    }
   ],
   "source": [
    "import numpy as np\n",
    "\n",
    "class TreeNode:\n",
    "    def __init__(self, label, children=None):\n",
    "        self.label = label\n",
    "        self.children = children or []\n",
    "\n",
    "def find_node(root, label):\n",
    "    if root.label == label:\n",
    "        return root\n",
    "    for child in root.children:\n",
    "        found = find_node(child, label)\n",
    "        if found:\n",
    "            return found\n",
    "    return None\n",
    "\n",
    "def find_path_to_root(node, target_label):\n",
    "    path = []\n",
    "    current = node\n",
    "    while current:\n",
    "        path.append(current.label)\n",
    "        if current.label == target_label:\n",
    "            return path\n",
    "        parent = None\n",
    "        for child in current.children:\n",
    "            if find_node(child, target_label):\n",
    "                parent = child\n",
    "                break\n",
    "        current = parent\n",
    "    return None\n",
    "\n",
    "def find_lowest_common_ancestor(root, label1, label2):\n",
    "    path1 = find_path_to_root(root, label1)\n",
    "    path2 = find_path_to_root(root, label2)\n",
    "    if not path1 or not path2:\n",
    "        return None\n",
    "    i = 0\n",
    "    while i < len(path1) and i < len(path2) and path1[i] == path2[i]:\n",
    "        i += 1\n",
    "    return path1[i-1] if i > 0 else None\n",
    "\n",
    "def calculate_distance(root, label1, label2):\n",
    "    if label1 == label2:\n",
    "        return 0\n",
    "    lca = find_lowest_common_ancestor(root, label1, label2)\n",
    "    if not lca:\n",
    "        return None\n",
    "    \n",
    "    path1 = find_path_to_root(root, label1)\n",
    "    path2 = find_path_to_root(root, label2)\n",
    "    \n",
    "    lca_index1 = path1.index(lca)\n",
    "    lca_index2 = path2.index(lca)\n",
    "    \n",
    "    return len(path1) - lca_index1 + len(path2) - lca_index2 - 2\n",
    "\n",
    "def create_distance_matrix(root, labels):\n",
    "    n = len(labels)\n",
    "    matrix = np.zeros((n, n), dtype=int)\n",
    "    \n",
    "    for i in range(n):\n",
    "        for j in range(i+1, n):\n",
    "            distance = calculate_distance(root, labels[i], labels[j])\n",
    "            matrix[i, j] = distance\n",
    "            matrix[j, i] = distance\n",
    "    \n",
    "    return matrix\n",
    "\n",
    "# 创建树状结构\n",
    "root = TreeNode('Medical Conditions', [\n",
    "    TreeNode('Respiratory Conditions', [\n",
    "        TreeNode('Atelectasis', [\n",
    "            TreeNode('Mass'),\n",
    "            TreeNode('Pneumonia')\n",
    "        ]),\n",
    "        TreeNode('Consolidation', [\n",
    "            TreeNode('Pneumonia')\n",
    "        ]),\n",
    "        TreeNode('Edema', [\n",
    "            TreeNode('Effusion')\n",
    "        ]),\n",
    "        TreeNode('Emphysema'),\n",
    "        TreeNode('Fibrosis'),\n",
    "        TreeNode('Infiltration'),\n",
    "        TreeNode('Mass', [\n",
    "            TreeNode('Atelectasis')\n",
    "        ]),\n",
    "        TreeNode('Nodule'),\n",
    "        TreeNode('Pleural_Thickening'),\n",
    "        TreeNode('Pneumonia', [\n",
    "            TreeNode('Consolidation')\n",
    "        ]),\n",
    "        TreeNode('Pneumothorax')\n",
    "    ]),\n",
    "    TreeNode('Cardiac Conditions', [\n",
    "        TreeNode('Cardiomegaly', [\n",
    "            TreeNode('Edema'),\n",
    "            TreeNode('Effusion')\n",
    "        ])\n",
    "    ]),\n",
    "    TreeNode('Other Conditions', [\n",
    "        TreeNode('Hernia')\n",
    "    ])\n",
    "])\n",
    "\n",
    "# 标签列表\n",
    "labels = ['Atelectasis', 'Cardiomegaly', 'Consolidation', 'Edema',\n",
    "          'Effusion', 'Emphysema', 'Fibrosis', 'Hernia', 'Infiltration', 'Mass',\n",
    "          'Nodule', 'Pleural_Thickening', 'Pneumonia', 'Pneumothorax']\n",
    "\n",
    "# 计算距离矩阵\n",
    "distance_matrix = create_distance_matrix(root, labels)\n",
    "\n",
    "# 打印距离矩阵\n",
    "print(\"Distance Matrix:\")\n",
    "print(distance_matrix)\n",
    "\n",
    "# 如果需要更好的可读性，可以使用pandas来展示结果\n",
    "import pandas as pd\n",
    "\n",
    "df = pd.DataFrame(distance_matrix, index=labels, columns=labels)\n",
    "print(\"\\nDistance Matrix (Pandas DataFrame):\")\n",
    "print(df)"
   ]
  },
  {
   "cell_type": "code",
   "execution_count": null,
   "metadata": {},
   "outputs": [],
   "source": []
  }
 ],
 "metadata": {
  "kernelspec": {
   "display_name": "torch",
   "language": "python",
   "name": "python3"
  },
  "language_info": {
   "codemirror_mode": {
    "name": "ipython",
    "version": 3
   },
   "file_extension": ".py",
   "mimetype": "text/x-python",
   "name": "python",
   "nbconvert_exporter": "python",
   "pygments_lexer": "ipython3",
   "version": "3.8.18"
  },
  "orig_nbformat": 4
 },
 "nbformat": 4,
 "nbformat_minor": 2
}

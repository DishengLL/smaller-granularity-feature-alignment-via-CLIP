{
 "cells": [
  {
   "cell_type": "code",
   "execution_count": 1,
   "metadata": {},
   "outputs": [],
   "source": [
    "import open_clip"
   ]
  },
  {
   "cell_type": "code",
   "execution_count": 7,
   "metadata": {},
   "outputs": [],
   "source": [
    "a = open_clip.CLIP"
   ]
  },
  {
   "cell_type": "code",
   "execution_count": 8,
   "metadata": {},
   "outputs": [
    {
     "data": {
      "text/plain": [
       "open_clip.model.CLIP"
      ]
     },
     "execution_count": 8,
     "metadata": {},
     "output_type": "execute_result"
    }
   ],
   "source": [
    "a"
   ]
  },
  {
   "cell_type": "code",
   "execution_count": 1,
   "metadata": {},
   "outputs": [],
   "source": [
    "import sys\n",
    "sys.path.append(\"/home_data/home/v-liudsh/coding/constrastive_P/diagnosisP/exchange/Fine-Grained_Features_Alignment_via_Constrastive_Learning//\")\n"
   ]
  },
  {
   "cell_type": "code",
   "execution_count": 2,
   "metadata": {},
   "outputs": [],
   "source": [
    "from src import PLM_embedding"
   ]
  },
  {
   "cell_type": "code",
   "execution_count": 8,
   "metadata": {},
   "outputs": [
    {
     "name": "stdout",
     "output_type": "stream",
     "text": [
      "dict_items([('No Finding', 'No pathological findings observed in the X-ray image; a normal result indicating the absence of detectable abnormalities or diseases.'), ('Enlarged Cardiomediastinum', 'Enlargement of the heart and the structures in the central part of the chest, visible on a chest X-ray, often identified in the mediastinal region.'), ('Cardiomegaly', 'Abnormal enlargement of the heart, potentially observed in the cardiac silhouette on a chest X-ray, indicating an increase in cardiac size.'), ('Lung Lesion', 'An abnormality or injury in the lung tissue, which may include tumors, nodules, or other lesions, affecting specific areas within the lungs.'), ('Lung Opacity', 'Increased density or lack of transparency in lung tissue observed on X-ray images, affecting various regions of the lungs and compromising visibility.'), ('Edema', 'Accumulation of excess fluid in the body tissues, including the lungs, leading to swelling; in X-ray images, may manifest as increased density in the lung parenchyma.'), ('Consolidation', 'Solidification of lung tissue, often due to conditions like pneumonia, affecting specific areas of the lungs and causing reduced air exchange.'), ('Pneumonia', 'Inflammation of the lung tissue, typically affecting specific lobes or segments of the lungs, visible as infiltrates on X-ray images.'), ('Atelectasis', 'Collapse or partial collapse of lung tissue, causing reduced air volume in specific lung regions, often observed as opacities on X-ray.'), ('Pneumothorax', 'Presence of air in the pleural space, causing lung collapse; usually seen as a dark area along the pleural line on X-ray images.'), ('Pleural Effusion', 'Accumulation of excess fluid in the pleural cavity, typically seen as blunting of the costophrenic angles or as fluid collections in specific pleural spaces on X-ray.'), ('Pleural Other', 'Various abnormalities affecting the pleura, including pleurisy, pneumopleuritis, or pleural thickening; localized changes visible in the pleural region on X-ray.'), ('Fracture', 'Break or crack in bones of the rib cage or sternum, often visible as discontinuities in specific ribs or bone structures on X-ray.'), ('Support Devices', 'Presence of medical support devices in the patient, such as ventilators, tubes, or other supportive equipment; may be visible in specific areas of the chest or lung fields on X-ray.')])\n"
     ]
    },
    {
     "data": {
      "text/plain": [
       "['No Finding, No pathological findings observed in the X-ray image; a normal result indicating the absence of detectable abnormalities or diseases.',\n",
       " 'Enlarged Cardiomediastinum, Enlargement of the heart and the structures in the central part of the chest, visible on a chest X-ray, often identified in the mediastinal region.',\n",
       " 'Cardiomegaly, Abnormal enlargement of the heart, potentially observed in the cardiac silhouette on a chest X-ray, indicating an increase in cardiac size.',\n",
       " 'Lung Lesion, An abnormality or injury in the lung tissue, which may include tumors, nodules, or other lesions, affecting specific areas within the lungs.',\n",
       " 'Lung Opacity, Increased density or lack of transparency in lung tissue observed on X-ray images, affecting various regions of the lungs and compromising visibility.',\n",
       " 'Edema, Accumulation of excess fluid in the body tissues, including the lungs, leading to swelling; in X-ray images, may manifest as increased density in the lung parenchyma.',\n",
       " 'Consolidation, Solidification of lung tissue, often due to conditions like pneumonia, affecting specific areas of the lungs and causing reduced air exchange.',\n",
       " 'Pneumonia, Inflammation of the lung tissue, typically affecting specific lobes or segments of the lungs, visible as infiltrates on X-ray images.',\n",
       " 'Atelectasis, Collapse or partial collapse of lung tissue, causing reduced air volume in specific lung regions, often observed as opacities on X-ray.',\n",
       " 'Pneumothorax, Presence of air in the pleural space, causing lung collapse; usually seen as a dark area along the pleural line on X-ray images.',\n",
       " 'Pleural Effusion, Accumulation of excess fluid in the pleural cavity, typically seen as blunting of the costophrenic angles or as fluid collections in specific pleural spaces on X-ray.',\n",
       " 'Pleural Other, Various abnormalities affecting the pleura, including pleurisy, pneumopleuritis, or pleural thickening; localized changes visible in the pleural region on X-ray.',\n",
       " 'Fracture, Break or crack in bones of the rib cage or sternum, often visible as discontinuities in specific ribs or bone structures on X-ray.',\n",
       " 'Support Devices, Presence of medical support devices in the patient, such as ventilators, tubes, or other supportive equipment; may be visible in specific areas of the chest or lung fields on X-ray.']"
      ]
     },
     "execution_count": 8,
     "metadata": {},
     "output_type": "execute_result"
    }
   ],
   "source": [
    "a = PLM_embedding()\n",
    "text = {\n",
    "    \"No Finding\": \"No pathological findings observed in the X-ray image; a normal result indicating the absence of detectable abnormalities or diseases.\",\n",
    "    \"Enlarged Cardiomediastinum\": \"Enlargement of the heart and the structures in the central part of the chest, visible on a chest X-ray, often identified in the mediastinal region.\",\n",
    "    \"Cardiomegaly\": \"Abnormal enlargement of the heart, potentially observed in the cardiac silhouette on a chest X-ray, indicating an increase in cardiac size.\",\n",
    "    \"Lung Lesion\": \"An abnormality or injury in the lung tissue, which may include tumors, nodules, or other lesions, affecting specific areas within the lungs.\",\n",
    "    \"Lung Opacity\": \"Increased density or lack of transparency in lung tissue observed on X-ray images, affecting various regions of the lungs and compromising visibility.\",\n",
    "    \"Edema\": \"Accumulation of excess fluid in the body tissues, including the lungs, leading to swelling; in X-ray images, may manifest as increased density in the lung parenchyma.\",\n",
    "    \"Consolidation\": \"Solidification of lung tissue, often due to conditions like pneumonia, affecting specific areas of the lungs and causing reduced air exchange.\",\n",
    "    \"Pneumonia\": \"Inflammation of the lung tissue, typically affecting specific lobes or segments of the lungs, visible as infiltrates on X-ray images.\",\n",
    "    \"Atelectasis\": \"Collapse or partial collapse of lung tissue, causing reduced air volume in specific lung regions, often observed as opacities on X-ray.\",\n",
    "    \"Pneumothorax\": \"Presence of air in the pleural space, causing lung collapse; usually seen as a dark area along the pleural line on X-ray images.\",\n",
    "    \"Pleural Effusion\": \"Accumulation of excess fluid in the pleural cavity, typically seen as blunting of the costophrenic angles or as fluid collections in specific pleural spaces on X-ray.\",\n",
    "    \"Pleural Other\": \"Various abnormalities affecting the pleura, including pleurisy, pneumopleuritis, or pleural thickening; localized changes visible in the pleural region on X-ray.\",\n",
    "    \"Fracture\": \"Break or crack in bones of the rib cage or sternum, often visible as discontinuities in specific ribs or bone structures on X-ray.\",\n",
    "    \"Support Devices\": \"Presence of medical support devices in the patient, such as ventilators, tubes, or other supportive equipment; may be visible in specific areas of the chest or lung fields on X-ray.\"\n",
    "}\n",
    "print(text.items())\n",
    "text_exp = [i+\", \"+j for i,j in text.items()]\n",
    "text_exp"
   ]
  },
  {
   "cell_type": "code",
   "execution_count": null,
   "metadata": {},
   "outputs": [],
   "source": []
  },
  {
   "cell_type": "code",
   "execution_count": 36,
   "metadata": {},
   "outputs": [],
   "source": [
    "import pandas as pd\n",
    "NIH = pd.read_csv(\"/public_bme/data/lds/CXR_datasets/NIH_chest14_dataset/testing_dataset.csv\")  \n",
    "NIH_disease_labels = NIH.columns.drop(['Image Index', 'No Finding']).to_list()\n",
    "\n",
    "CheXpert = pd.read_csv(\"/public_bme/data/lds/CXR_datasets/CheXpert/data/data/CheXpert-v1.0-small/CheXpert_training.csv\")\n",
    "chexpert_labels = CheXpert.columns.drop([\"Path\", \"Combined\"]).to_list()\n",
    "\n",
    "MIMIC = pd.read_csv(\"/public_bme/data/lds/CXR_datasets/MIMIC/training.csv\")\n",
    "MIMIC_labels = MIMIC.columns.drop(\"image_file_path\").to_list()"
   ]
  },
  {
   "cell_type": "code",
   "execution_count": 37,
   "metadata": {},
   "outputs": [
    {
     "data": {
      "text/plain": [
       "['Atelectasis',\n",
       " 'Cardiomegaly',\n",
       " 'Consolidation',\n",
       " 'Edema',\n",
       " 'Effusion',\n",
       " 'Emphysema',\n",
       " 'Fibrosis',\n",
       " 'Hernia',\n",
       " 'Infiltration',\n",
       " 'Mass',\n",
       " 'Nodule',\n",
       " 'Pleural_Thickening',\n",
       " 'Pneumonia',\n",
       " 'Pneumothorax']"
      ]
     },
     "execution_count": 37,
     "metadata": {},
     "output_type": "execute_result"
    }
   ],
   "source": [
    "NIH_disease_labels"
   ]
  },
  {
   "cell_type": "code",
   "execution_count": 39,
   "metadata": {},
   "outputs": [
    {
     "data": {
      "text/html": [
       "<div>\n",
       "<style scoped>\n",
       "    .dataframe tbody tr th:only-of-type {\n",
       "        vertical-align: middle;\n",
       "    }\n",
       "\n",
       "    .dataframe tbody tr th {\n",
       "        vertical-align: top;\n",
       "    }\n",
       "\n",
       "    .dataframe thead th {\n",
       "        text-align: right;\n",
       "    }\n",
       "</style>\n",
       "<table border=\"1\" class=\"dataframe\">\n",
       "  <thead>\n",
       "    <tr style=\"text-align: right;\">\n",
       "      <th></th>\n",
       "      <th>NIH</th>\n",
       "      <th>CheXpert</th>\n",
       "      <th>MIMIC</th>\n",
       "    </tr>\n",
       "  </thead>\n",
       "  <tbody>\n",
       "    <tr>\n",
       "      <th>0</th>\n",
       "      <td>Atelectasis</td>\n",
       "      <td>Atelectasis</td>\n",
       "      <td>Atelectasis</td>\n",
       "    </tr>\n",
       "    <tr>\n",
       "      <th>1</th>\n",
       "      <td>Cardiomegaly</td>\n",
       "      <td>Cardiomegaly</td>\n",
       "      <td>Cardiomegaly</td>\n",
       "    </tr>\n",
       "    <tr>\n",
       "      <th>2</th>\n",
       "      <td>Consolidation</td>\n",
       "      <td>Consolidation</td>\n",
       "      <td>Consolidation</td>\n",
       "    </tr>\n",
       "    <tr>\n",
       "      <th>3</th>\n",
       "      <td>Edema</td>\n",
       "      <td>Edema</td>\n",
       "      <td>Edema</td>\n",
       "    </tr>\n",
       "    <tr>\n",
       "      <th>4</th>\n",
       "      <td>Effusion</td>\n",
       "      <td>Enlarged Cardiomediastinum</td>\n",
       "      <td>Enlarged Cardiomediastinum</td>\n",
       "    </tr>\n",
       "    <tr>\n",
       "      <th>5</th>\n",
       "      <td>Emphysema</td>\n",
       "      <td>Fracture</td>\n",
       "      <td>Fracture</td>\n",
       "    </tr>\n",
       "    <tr>\n",
       "      <th>6</th>\n",
       "      <td>Fibrosis</td>\n",
       "      <td>Lung Lesion</td>\n",
       "      <td>Lung Lesion</td>\n",
       "    </tr>\n",
       "    <tr>\n",
       "      <th>7</th>\n",
       "      <td>Hernia</td>\n",
       "      <td>Lung Opacity</td>\n",
       "      <td>Lung Opacity</td>\n",
       "    </tr>\n",
       "    <tr>\n",
       "      <th>8</th>\n",
       "      <td>Infiltration</td>\n",
       "      <td>No Finding</td>\n",
       "      <td>No Finding</td>\n",
       "    </tr>\n",
       "    <tr>\n",
       "      <th>9</th>\n",
       "      <td>Mass</td>\n",
       "      <td>Pleural Effusion</td>\n",
       "      <td>Pleural Effusion</td>\n",
       "    </tr>\n",
       "    <tr>\n",
       "      <th>10</th>\n",
       "      <td>Nodule</td>\n",
       "      <td>Pleural Other</td>\n",
       "      <td>Pleural Other</td>\n",
       "    </tr>\n",
       "    <tr>\n",
       "      <th>11</th>\n",
       "      <td>Pleural_Thickening</td>\n",
       "      <td>Pneumonia</td>\n",
       "      <td>Pneumonia</td>\n",
       "    </tr>\n",
       "    <tr>\n",
       "      <th>12</th>\n",
       "      <td>Pneumonia</td>\n",
       "      <td>Pneumothorax</td>\n",
       "      <td>Pneumothorax</td>\n",
       "    </tr>\n",
       "    <tr>\n",
       "      <th>13</th>\n",
       "      <td>Pneumothorax</td>\n",
       "      <td>Support Devices</td>\n",
       "      <td>Support Devices</td>\n",
       "    </tr>\n",
       "  </tbody>\n",
       "</table>\n",
       "</div>"
      ],
      "text/plain": [
       "                   NIH                    CheXpert                       MIMIC\n",
       "0          Atelectasis                 Atelectasis                 Atelectasis\n",
       "1         Cardiomegaly                Cardiomegaly                Cardiomegaly\n",
       "2        Consolidation               Consolidation               Consolidation\n",
       "3                Edema                       Edema                       Edema\n",
       "4             Effusion  Enlarged Cardiomediastinum  Enlarged Cardiomediastinum\n",
       "5            Emphysema                    Fracture                    Fracture\n",
       "6             Fibrosis                 Lung Lesion                 Lung Lesion\n",
       "7               Hernia                Lung Opacity                Lung Opacity\n",
       "8         Infiltration                  No Finding                  No Finding\n",
       "9                 Mass            Pleural Effusion            Pleural Effusion\n",
       "10              Nodule               Pleural Other               Pleural Other\n",
       "11  Pleural_Thickening                   Pneumonia                   Pneumonia\n",
       "12           Pneumonia                Pneumothorax                Pneumothorax\n",
       "13        Pneumothorax             Support Devices             Support Devices"
      ]
     },
     "execution_count": 39,
     "metadata": {},
     "output_type": "execute_result"
    }
   ],
   "source": [
    "dataset_label_dict = {\n",
    "    \"NIH\": NIH_disease_labels,\n",
    "    \"CheXpert\": chexpert_labels,\n",
    "    \"MIMIC\": MIMIC_labels\n",
    "}\n",
    "\n",
    "pd.DataFrame(dataset_label_dict)"
   ]
  }
 ],
 "metadata": {
  "kernelspec": {
   "display_name": "torch",
   "language": "python",
   "name": "python3"
  },
  "language_info": {
   "codemirror_mode": {
    "name": "ipython",
    "version": 3
   },
   "file_extension": ".py",
   "mimetype": "text/x-python",
   "name": "python",
   "nbconvert_exporter": "python",
   "pygments_lexer": "ipython3",
   "version": "3.8.18"
  },
  "orig_nbformat": 4
 },
 "nbformat": 4,
 "nbformat_minor": 2
}

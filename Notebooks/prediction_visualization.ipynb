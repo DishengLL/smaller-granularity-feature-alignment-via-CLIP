{
 "cells": [
  {
   "cell_type": "markdown",
   "metadata": {},
   "source": [
    "## Model prediction and Result analysis\n",
    "I use this Notebook to evaluate the output(final and intermediate) of the trained models"
   ]
  },
  {
   "cell_type": "code",
   "execution_count": 1,
   "metadata": {},
   "outputs": [],
   "source": [
    "import torch, sys\n",
    "sys.path.append('../src/')\n",
    "import constants\n",
    "import prediction as P\n",
    "import numpy as np\n",
    "import matplotlib.pyplot as plt\n",
    "from sklearn.metrics import roc_curve, auc\n",
    "import os\n",
    "from pathlib import Path\n",
    "import argparse\n",
    "device = \"cuda\" if torch.cuda.is_available() else \"cpu\" \n"
   ]
  },
  {
   "cell_type": "code",
   "execution_count": null,
   "metadata": {},
   "outputs": [],
   "source": [
    "def load_mode():\n",
    "  model_path = input(\"Please enter your model path: \")\n",
    "  config_dict = P.parse_model_path(model_path)\n",
    "\n",
    "  backbone = \"biomedclip\" if config_dict['backbone'] == None else config_dict['backbone']\n",
    "  backbone_v = None if config_dict['backbone_v'] == None else config_dict['backbone_v']\n",
    "  visual_branch_only = config_dict['v_only']\n",
    "  no_orthogonize = config_dict['no_orthogonize']\n",
    "  if no_orthogonize:\n",
    "    print(constants.RED + \"do not implement orthogonization\" + constants.RESET)\n",
    "  no_contrastive = config_dict['no_contrastive']\n",
    "  if no_contrastive:\n",
    "    print(constants.RED + \"do not implement contrastive learning between text and images\" + constants.RESET)\n",
    "  high_order = config_dict['high_order']\n",
    "  if high_order != \"NA\":\n",
    "    print(constants.RED+f\"integrate graph alignment into the whole loss, using {high_order} graph!\"+constants.RESET)\n",
    "  model = P.load_model(model_path, nntype = backbone, visual_branch_only = visual_branch_only, backbone_v = backbone_v,\n",
    "                          high_order=high_order, no_orthogonize = no_orthogonize, no_contrastive=no_contrastive, )\n",
    "# model_infer_eval(model, backbone_type = backbone, dump_path=dump)\n",
    "  return model\n",
    "\n",
    "load_mode()\n",
    "\n"
   ]
  }
 ],
 "metadata": {
  "kernelspec": {
   "display_name": "torch",
   "language": "python",
   "name": "python3"
  },
  "language_info": {
   "codemirror_mode": {
    "name": "ipython",
    "version": 3
   },
   "file_extension": ".py",
   "mimetype": "text/x-python",
   "name": "python",
   "nbconvert_exporter": "python",
   "pygments_lexer": "ipython3",
   "version": "3.8.18"
  }
 },
 "nbformat": 4,
 "nbformat_minor": 2
}
